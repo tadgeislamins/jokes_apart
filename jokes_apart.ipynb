{
 "cells": [
  {
   "cell_type": "markdown",
   "metadata": {
    "id": "K5t1jSWYkKZP"
   },
   "source": [
    "# Основная часть курсовой"
   ]
  },
  {
   "cell_type": "markdown",
   "metadata": {
    "id": "93_L1eOmiHzu"
   },
   "source": [
    "Датасет анекдотов: https://github.com/hemulitch/projectcorpora/tree/main\n",
    "\n",
    "Список частеречных тегов и тегов для NER из Natasha: https://github.com/natasha/natasha?tab=readme-ov-file"
   ]
  },
  {
   "cell_type": "markdown",
   "metadata": {},
   "source": [
    "## Функции и билиотеки для предобработки датасетов"
   ]
  },
  {
   "cell_type": "code",
   "execution_count": 12,
   "metadata": {},
   "outputs": [],
   "source": [
    "# !pip install natasha"
   ]
  },
  {
   "cell_type": "code",
   "execution_count": 1,
   "metadata": {},
   "outputs": [],
   "source": [
    "from natasha import (\n",
    "    Segmenter, MorphVocab,\n",
    "    NewsNERTagger,\n",
    "    NewsEmbedding,\n",
    "    NewsMorphTagger,\n",
    "    Doc\n",
    ")\n",
    "import re"
   ]
  },
  {
   "cell_type": "code",
   "execution_count": 2,
   "metadata": {},
   "outputs": [],
   "source": [
    "def prepare_russian_text(input_text):\n",
    "\n",
    "    segmenter = Segmenter()\n",
    "    emb = NewsEmbedding()\n",
    "    morph_tagger = NewsMorphTagger(emb)\n",
    "    ner_tagger = NewsNERTagger(emb)\n",
    "    morph_vocab = MorphVocab()\n",
    "\n",
    "    label_dict = {'NUM': '0', 'PRON': '1', 'PER': '2', 'LOC': '3', 'ORG': '4'}\n",
    "    next_label_num = 5\n",
    "\n",
    "\n",
    "    raw_text = input_text.replace('\\n', ' ')\n",
    "    raw_text = re.sub(r'\\d+', '0' , raw_text)\n",
    "\n",
    "    doc = Doc(raw_text)\n",
    "    doc.segment(segmenter)\n",
    "    doc.tag_ner(ner_tagger)\n",
    "\n",
    "    for span in reversed(doc.ner.spans):\n",
    "        if span.type not in label_dict:\n",
    "            label_dict[span.type] = str(next_label_num)\n",
    "            next_label_num += 1\n",
    "        raw_text = \"\".join((raw_text[:span.start], label_dict[span.type], raw_text[span.stop:]))\n",
    "\n",
    "    doc = Doc(raw_text)\n",
    "    doc.segment(segmenter)\n",
    "    doc.tag_morph(morph_tagger)\n",
    "\n",
    "    prepared_text = ''\n",
    "    prev_num = False\n",
    "    for token in doc.tokens:\n",
    "\n",
    "        if token.pos == 'NUM' and not token.text.isdigit():\n",
    "            if not prev_num:\n",
    "                prepared_text += '0'\n",
    "                prepared_text += ' '\n",
    "                prev_num = True\n",
    "            continue\n",
    "\n",
    "        prev_num = False\n",
    "\n",
    "        if token.pos in label_dict:\n",
    "            prepared_text += label_dict[token.pos]\n",
    "            prepared_text += ' '\n",
    "\n",
    "        elif token.pos != 'PUNCT':\n",
    "                try:\n",
    "                    token.lemmatize(morph_vocab)\n",
    "                    prepared_text += token.lemma.lower()\n",
    "                    prepared_text += ' '\n",
    "                except Exception as ex:\n",
    "                    prepared_text += token.text.lower()\n",
    "                    prepared_text += ' '\n",
    "    return prepared_text"
   ]
  },
  {
   "cell_type": "markdown",
   "metadata": {
    "id": "9AEyaZCM0uvU"
   },
   "source": [
    "## Получение датасета шуток (готовый с huggingface)\n",
    "https://huggingface.co/datasets/IgorVolochay/russian_jokes/resolve/main/dataset.csv?download=true"
   ]
  },
  {
   "cell_type": "code",
   "execution_count": 3,
   "metadata": {
    "id": "K3hpbNWhnI-Q"
   },
   "outputs": [],
   "source": [
    "import pandas as pd"
   ]
  },
  {
   "cell_type": "code",
   "execution_count": 34,
   "metadata": {},
   "outputs": [],
   "source": [
    "# jokes_df = pd.read_csv('https://huggingface.co/datasets/IgorVolochay/russian_jokes/resolve/main/dataset.csv?download=true')\n",
    "# # запись в файл\n",
    "# jokes_df.to_csv(\"jokes_df.csv\", index=False, encoding='utf-8')"
   ]
  },
  {
   "cell_type": "code",
   "execution_count": 12,
   "metadata": {
    "id": "qCb2cqV8nJF3"
   },
   "outputs": [
    {
     "name": "stdout",
     "output_type": "stream",
     "text": [
      "(150553, 2)\n"
     ]
    },
    {
     "data": {
      "text/html": [
       "<div>\n",
       "<style scoped>\n",
       "    .dataframe tbody tr th:only-of-type {\n",
       "        vertical-align: middle;\n",
       "    }\n",
       "\n",
       "    .dataframe tbody tr th {\n",
       "        vertical-align: top;\n",
       "    }\n",
       "\n",
       "    .dataframe thead th {\n",
       "        text-align: right;\n",
       "    }\n",
       "</style>\n",
       "<table border=\"1\" class=\"dataframe\">\n",
       "  <thead>\n",
       "    <tr style=\"text-align: right;\">\n",
       "      <th></th>\n",
       "      <th>text</th>\n",
       "      <th>words_count</th>\n",
       "    </tr>\n",
       "  </thead>\n",
       "  <tbody>\n",
       "    <tr>\n",
       "      <th>0</th>\n",
       "      <td>- Зять, а ты знаешь, где найти того мужчину, к...</td>\n",
       "      <td>22</td>\n",
       "    </tr>\n",
       "    <tr>\n",
       "      <th>1</th>\n",
       "      <td>После проведения акции \"К животным по-человече...</td>\n",
       "      <td>15</td>\n",
       "    </tr>\n",
       "    <tr>\n",
       "      <th>2</th>\n",
       "      <td>Штирлиц пришел домой и сразу завалился на боко...</td>\n",
       "      <td>12</td>\n",
       "    </tr>\n",
       "    <tr>\n",
       "      <th>3</th>\n",
       "      <td>Комету нашли русские, а захватила ее Европа. И...</td>\n",
       "      <td>13</td>\n",
       "    </tr>\n",
       "    <tr>\n",
       "      <th>4</th>\n",
       "      <td>- Мальчик, какой у тебя огромный рюкзачок, что...</td>\n",
       "      <td>19</td>\n",
       "    </tr>\n",
       "  </tbody>\n",
       "</table>\n",
       "</div>"
      ],
      "text/plain": [
       "                                                text  words_count\n",
       "0  - Зять, а ты знаешь, где найти того мужчину, к...           22\n",
       "1  После проведения акции \"К животным по-человече...           15\n",
       "2  Штирлиц пришел домой и сразу завалился на боко...           12\n",
       "3  Комету нашли русские, а захватила ее Европа. И...           13\n",
       "4  - Мальчик, какой у тебя огромный рюкзачок, что...           19"
      ]
     },
     "execution_count": 12,
     "metadata": {},
     "output_type": "execute_result"
    }
   ],
   "source": [
    "jokes_df = pd.read_csv('jokes_df.csv')\n",
    "print(jokes_df.shape)\n",
    "jokes_df.head()"
   ]
  },
  {
   "cell_type": "code",
   "execution_count": 13,
   "metadata": {
    "id": "9CgDfmECoC6V"
   },
   "outputs": [],
   "source": [
    "jokes_df['words_count'] = jokes_df['text'].apply(lambda x: len(x.split()))"
   ]
  },
  {
   "cell_type": "code",
   "execution_count": 16,
   "metadata": {
    "id": "9LJmPChyoC89",
    "scrolled": true
   },
   "outputs": [
    {
     "data": {
      "text/plain": [
       "24.702530006044384"
      ]
     },
     "execution_count": 16,
     "metadata": {},
     "output_type": "execute_result"
    }
   ],
   "source": [
    "jokes_df['words_count'].mean()"
   ]
  },
  {
   "cell_type": "code",
   "execution_count": 17,
   "metadata": {},
   "outputs": [
    {
     "data": {
      "text/plain": [
       "17.0"
      ]
     },
     "execution_count": 17,
     "metadata": {},
     "output_type": "execute_result"
    }
   ],
   "source": [
    "jokes_df['words_count'].median()"
   ]
  },
  {
   "cell_type": "code",
   "execution_count": 37,
   "metadata": {},
   "outputs": [],
   "source": [
    "jokes_df.to_csv(\"jokes_df.csv\", index=False, encoding='utf-8')"
   ]
  },
  {
   "cell_type": "markdown",
   "metadata": {
    "id": "XZ0hxZ6Z03z9"
   },
   "source": [
    "## Предобработка датасета шуток"
   ]
  },
  {
   "cell_type": "markdown",
   "metadata": {},
   "source": [
    "### Подвыборка из датасета шуток"
   ]
  },
  {
   "cell_type": "code",
   "execution_count": 45,
   "metadata": {
    "colab": {
     "base_uri": "https://localhost:8080/",
     "height": 206
    },
    "id": "3P8t9W-D5uoV",
    "outputId": "f845ffc4-8b82-4be4-ee4c-4c0072f20ec4"
   },
   "outputs": [
    {
     "data": {
      "text/html": [
       "<div>\n",
       "<style scoped>\n",
       "    .dataframe tbody tr th:only-of-type {\n",
       "        vertical-align: middle;\n",
       "    }\n",
       "\n",
       "    .dataframe tbody tr th {\n",
       "        vertical-align: top;\n",
       "    }\n",
       "\n",
       "    .dataframe thead th {\n",
       "        text-align: right;\n",
       "    }\n",
       "</style>\n",
       "<table border=\"1\" class=\"dataframe\">\n",
       "  <thead>\n",
       "    <tr style=\"text-align: right;\">\n",
       "      <th></th>\n",
       "      <th>text</th>\n",
       "      <th>words_count</th>\n",
       "    </tr>\n",
       "  </thead>\n",
       "  <tbody>\n",
       "    <tr>\n",
       "      <th>0</th>\n",
       "      <td>- Зять, а ты знаешь, где найти того мужчину, к...</td>\n",
       "      <td>22</td>\n",
       "    </tr>\n",
       "    <tr>\n",
       "      <th>1</th>\n",
       "      <td>После проведения акции \"К животным по-человече...</td>\n",
       "      <td>15</td>\n",
       "    </tr>\n",
       "    <tr>\n",
       "      <th>2</th>\n",
       "      <td>Штирлиц пришел домой и сразу завалился на боко...</td>\n",
       "      <td>12</td>\n",
       "    </tr>\n",
       "    <tr>\n",
       "      <th>3</th>\n",
       "      <td>Комету нашли русские, а захватила ее Европа. И...</td>\n",
       "      <td>13</td>\n",
       "    </tr>\n",
       "    <tr>\n",
       "      <th>4</th>\n",
       "      <td>- Мальчик, какой у тебя огромный рюкзачок, что...</td>\n",
       "      <td>19</td>\n",
       "    </tr>\n",
       "  </tbody>\n",
       "</table>\n",
       "</div>"
      ],
      "text/plain": [
       "                                                text  words_count\n",
       "0  - Зять, а ты знаешь, где найти того мужчину, к...           22\n",
       "1  После проведения акции \"К животным по-человече...           15\n",
       "2  Штирлиц пришел домой и сразу завалился на боко...           12\n",
       "3  Комету нашли русские, а захватила ее Европа. И...           13\n",
       "4  - Мальчик, какой у тебя огромный рюкзачок, что...           19"
      ]
     },
     "execution_count": 45,
     "metadata": {},
     "output_type": "execute_result"
    }
   ],
   "source": [
    "jokes_slice_df = jokes_df.loc[:1000]\n",
    "jokes_slice_df.head()"
   ]
  },
  {
   "cell_type": "code",
   "execution_count": 46,
   "metadata": {
    "colab": {
     "base_uri": "https://localhost:8080/"
    },
    "id": "Kh9iBaEs0s3B",
    "outputId": "ee4f9aff-26ff-4d45-b1a2-9e3f6a817f53"
   },
   "outputs": [
    {
     "name": "stderr",
     "output_type": "stream",
     "text": [
      "100%|██████████| 1001/1001 [16:23<00:00,  1.02it/s]\n",
      "C:\\Users\\ttais\\AppData\\Local\\Temp\\ipykernel_2276\\165010735.py:4: SettingWithCopyWarning: \n",
      "A value is trying to be set on a copy of a slice from a DataFrame.\n",
      "Try using .loc[row_indexer,col_indexer] = value instead\n",
      "\n",
      "See the caveats in the documentation: https://pandas.pydata.org/pandas-docs/stable/user_guide/indexing.html#returning-a-view-versus-a-copy\n",
      "  jokes_slice_df['preprocessed'] = jokes_slice_df['text'].progress_apply(lambda x: prepare_russian_text(x))\n"
     ]
    }
   ],
   "source": [
    "from tqdm import tqdm\n",
    "tqdm.pandas()\n",
    "\n",
    "jokes_slice_df['preprocessed'] = jokes_slice_df['text'].progress_apply(lambda x: prepare_russian_text(x))"
   ]
  },
  {
   "cell_type": "code",
   "execution_count": 48,
   "metadata": {},
   "outputs": [],
   "source": [
    "# запись в файл\n",
    "jokes_slice_df.to_csv(\"jokes_slice_df.csv\", index=False, encoding='utf-8')"
   ]
  },
  {
   "cell_type": "markdown",
   "metadata": {},
   "source": [
    "### Итеративное расширение на весь датасет шуток"
   ]
  },
  {
   "cell_type": "code",
   "execution_count": 5,
   "metadata": {},
   "outputs": [
    {
     "data": {
      "text/html": [
       "<div>\n",
       "<style scoped>\n",
       "    .dataframe tbody tr th:only-of-type {\n",
       "        vertical-align: middle;\n",
       "    }\n",
       "\n",
       "    .dataframe tbody tr th {\n",
       "        vertical-align: top;\n",
       "    }\n",
       "\n",
       "    .dataframe thead th {\n",
       "        text-align: right;\n",
       "    }\n",
       "</style>\n",
       "<table border=\"1\" class=\"dataframe\">\n",
       "  <thead>\n",
       "    <tr style=\"text-align: right;\">\n",
       "      <th></th>\n",
       "      <th>text</th>\n",
       "      <th>words_count</th>\n",
       "    </tr>\n",
       "  </thead>\n",
       "  <tbody>\n",
       "    <tr>\n",
       "      <th>0</th>\n",
       "      <td>- Зять, а ты знаешь, где найти того мужчину, к...</td>\n",
       "      <td>22</td>\n",
       "    </tr>\n",
       "    <tr>\n",
       "      <th>1</th>\n",
       "      <td>После проведения акции \"К животным по-человече...</td>\n",
       "      <td>15</td>\n",
       "    </tr>\n",
       "    <tr>\n",
       "      <th>2</th>\n",
       "      <td>Штирлиц пришел домой и сразу завалился на боко...</td>\n",
       "      <td>12</td>\n",
       "    </tr>\n",
       "    <tr>\n",
       "      <th>3</th>\n",
       "      <td>Комету нашли русские, а захватила ее Европа. И...</td>\n",
       "      <td>13</td>\n",
       "    </tr>\n",
       "    <tr>\n",
       "      <th>4</th>\n",
       "      <td>- Мальчик, какой у тебя огромный рюкзачок, что...</td>\n",
       "      <td>19</td>\n",
       "    </tr>\n",
       "  </tbody>\n",
       "</table>\n",
       "</div>"
      ],
      "text/plain": [
       "                                                text  words_count\n",
       "0  - Зять, а ты знаешь, где найти того мужчину, к...           22\n",
       "1  После проведения акции \"К животным по-человече...           15\n",
       "2  Штирлиц пришел домой и сразу завалился на боко...           12\n",
       "3  Комету нашли русские, а захватила ее Европа. И...           13\n",
       "4  - Мальчик, какой у тебя огромный рюкзачок, что...           19"
      ]
     },
     "execution_count": 5,
     "metadata": {},
     "output_type": "execute_result"
    }
   ],
   "source": [
    "import pandas as pd\n",
    "\n",
    "# чтение из файла\n",
    "jokes_df = pd.read_csv('jokes_df.csv')\n",
    "jokes_df.head()"
   ]
  },
  {
   "cell_type": "code",
   "execution_count": 11,
   "metadata": {},
   "outputs": [
    {
     "name": "stdout",
     "output_type": "stream",
     "text": [
      "(150553, 2)\n"
     ]
    },
    {
     "name": "stderr",
     "output_type": "stream",
     "text": [
      "100%|██████████| 10000/10000 [2:36:51<00:00,  1.06it/s] \n",
      "C:\\Users\\ttais\\AppData\\Local\\Temp\\ipykernel_5180\\3448826754.py:6: SettingWithCopyWarning: \n",
      "A value is trying to be set on a copy of a slice from a DataFrame.\n",
      "Try using .loc[row_indexer,col_indexer] = value instead\n",
      "\n",
      "See the caveats in the documentation: https://pandas.pydata.org/pandas-docs/stable/user_guide/indexing.html#returning-a-view-versus-a-copy\n",
      "  jokes_slice_df['preprocessed'] = jokes_slice_df['text'].progress_apply(lambda x: prepare_russian_text(x))\n",
      "100%|██████████| 10000/10000 [2:35:51<00:00,  1.07it/s] \n",
      "C:\\Users\\ttais\\AppData\\Local\\Temp\\ipykernel_5180\\3448826754.py:9: SettingWithCopyWarning: \n",
      "A value is trying to be set on a copy of a slice from a DataFrame.\n",
      "Try using .loc[row_indexer,col_indexer] = value instead\n",
      "\n",
      "See the caveats in the documentation: https://pandas.pydata.org/pandas-docs/stable/user_guide/indexing.html#returning-a-view-versus-a-copy\n",
      "  jokes_slice_df['preprocessed'] = jokes_slice_df['text'].progress_apply(lambda x: prepare_russian_text(x))\n",
      "100%|██████████| 10000/10000 [2:36:35<00:00,  1.06it/s] \n",
      "C:\\Users\\ttais\\AppData\\Local\\Temp\\ipykernel_5180\\3448826754.py:12: SettingWithCopyWarning: \n",
      "A value is trying to be set on a copy of a slice from a DataFrame.\n",
      "Try using .loc[row_indexer,col_indexer] = value instead\n",
      "\n",
      "See the caveats in the documentation: https://pandas.pydata.org/pandas-docs/stable/user_guide/indexing.html#returning-a-view-versus-a-copy\n",
      "  jokes_slice_df['preprocessed'] = jokes_slice_df['text'].progress_apply(lambda x: prepare_russian_text(x))\n",
      "100%|██████████| 4552/4552 [1:11:44<00:00,  1.06it/s]\n",
      "C:\\Users\\ttais\\AppData\\Local\\Temp\\ipykernel_5180\\3448826754.py:15: SettingWithCopyWarning: \n",
      "A value is trying to be set on a copy of a slice from a DataFrame.\n",
      "Try using .loc[row_indexer,col_indexer] = value instead\n",
      "\n",
      "See the caveats in the documentation: https://pandas.pydata.org/pandas-docs/stable/user_guide/indexing.html#returning-a-view-versus-a-copy\n",
      "  jokes_slice_df['preprocessed'] = jokes_slice_df['text'].progress_apply(lambda x: prepare_russian_text(x))\n"
     ]
    }
   ],
   "source": [
    "from tqdm import tqdm\n",
    "tqdm.pandas()\n",
    "\n",
    "print(jokes_df.shape)\n",
    "jokes_slice_df = jokes_df.loc[116001:126000]\n",
    "jokes_slice_df['preprocessed'] = jokes_slice_df['text'].progress_apply(lambda x: prepare_russian_text(x))\n",
    "jokes_slice_df.to_csv('jokes_slice_df.csv', mode='a', index=False, header=False, encoding='utf-8')\n",
    "jokes_slice_df = jokes_df.loc[126001:136000]\n",
    "jokes_slice_df['preprocessed'] = jokes_slice_df['text'].progress_apply(lambda x: prepare_russian_text(x))\n",
    "jokes_slice_df.to_csv('jokes_slice_df.csv', mode='a', index=False, header=False, encoding='utf-8')\n",
    "jokes_slice_df = jokes_df.loc[136001:146000]\n",
    "jokes_slice_df['preprocessed'] = jokes_slice_df['text'].progress_apply(lambda x: prepare_russian_text(x))\n",
    "jokes_slice_df.to_csv('jokes_slice_df.csv', mode='a', index=False, header=False, encoding='utf-8')\n",
    "jokes_slice_df = jokes_df.loc[146001:]\n",
    "jokes_slice_df['preprocessed'] = jokes_slice_df['text'].progress_apply(lambda x: prepare_russian_text(x))\n",
    "jokes_slice_df.to_csv('jokes_slice_df.csv', mode='a', index=False, header=False, encoding='utf-8')"
   ]
  },
  {
   "cell_type": "code",
   "execution_count": 13,
   "metadata": {},
   "outputs": [
    {
     "data": {
      "text/plain": [
       "(150553, 3)"
      ]
     },
     "execution_count": 13,
     "metadata": {},
     "output_type": "execute_result"
    }
   ],
   "source": [
    "jokes_slice_df = pd.read_csv('jokes_slice_df.csv')\n",
    "jokes_slice_df.shape"
   ]
  },
  {
   "cell_type": "markdown",
   "metadata": {},
   "source": [
    "## Получение датасета новостей из OpenCorpora по абзацам\n",
    "(корпус OpenCorpora https://opencorpora.org/ -> Скачать -> Размеченные тексты -> целиком: архив .bz2)\n",
    "\n",
    "Теги OpenCorpora: https://opencorpora.org/dict.php?act=gram"
   ]
  },
  {
   "cell_type": "code",
   "execution_count": 34,
   "metadata": {},
   "outputs": [],
   "source": [
    "# !pip install pymorphy3"
   ]
  },
  {
   "cell_type": "code",
   "execution_count": 1,
   "metadata": {},
   "outputs": [],
   "source": [
    "import pandas as pd\n",
    "from bs4 import BeautifulSoup\n",
    "from tqdm import tqdm\n",
    "import pymorphy3"
   ]
  },
  {
   "cell_type": "code",
   "execution_count": 140,
   "metadata": {},
   "outputs": [],
   "source": [
    "texts_raw_list = []\n",
    "with open('annot.opcorpora.xml', 'r', encoding='utf-8') as file:\n",
    "    texts_raw_list = file.readlines()\n",
    "texts_raw = '\\n'.join(texts_raw_list)"
   ]
  },
  {
   "cell_type": "code",
   "execution_count": 141,
   "metadata": {},
   "outputs": [
    {
     "name": "stdout",
     "output_type": "stream",
     "text": [
      "491803360\n"
     ]
    }
   ],
   "source": [
    "print(len(texts_raw))"
   ]
  },
  {
   "cell_type": "code",
   "execution_count": null,
   "metadata": {},
   "outputs": [],
   "source": [
    "soup = BeautifulSoup(texts_raw, 'xml')"
   ]
  },
  {
   "cell_type": "code",
   "execution_count": null,
   "metadata": {},
   "outputs": [],
   "source": [
    "texts = soup.find_all('text')"
   ]
  },
  {
   "cell_type": "code",
   "execution_count": null,
   "metadata": {},
   "outputs": [],
   "source": [
    "print(len(texts))"
   ]
  },
  {
   "cell_type": "code",
   "execution_count": null,
   "metadata": {},
   "outputs": [],
   "source": [
    "pos_label_dict = {'NUMR': '0', 'NUMB': '0', 'ROMN': '0', 'NPRO': '1'}\n",
    "gram_label_dict = {'Apro': '1', 'Name': '2', 'Surn': '2', 'Patr': '2', 'Geox': '3', 'Orgn': '4', 'Trad': '4', 'Abbr': '5'}\n",
    "\n",
    "morph = pymorphy3.MorphAnalyzer()\n",
    "\n",
    "paragraphs_count = 0\n",
    "paragraphs_meta = []\n",
    "paragraphs_preprocessed = []\n",
    "while paragraphs_count <= 150553:\n",
    "    for text in tqdm(texts):\n",
    "        for tag in text.tags:\n",
    "            text_meta = text.tags.text\n",
    "        for paragraph in text.paragraphs.find_all('paragraph'):\n",
    "            paragraphs_meta.append(text_meta)\n",
    "            paragraph_preprocessed = ''\n",
    "            for sentence in paragraph.find_all('sentence'):\n",
    "                for token in sentence.tokens.find_all('token'):\n",
    "                    if token.l.g.get('v') in pos_label_dict:\n",
    "                        paragraph_preprocessed += pos_label_dict[token.l.g.get('v')]\n",
    "                        paragraph_preprocessed += ' '\n",
    "                    else:\n",
    "                        for gram in token.l.find_all('g'):\n",
    "                            if gram.get('v') in gram_label_dict:\n",
    "                                paragraph_preprocessed += gram_label_dict[gram.get('v')]\n",
    "                                paragraph_preprocessed += ' '\n",
    "                                break\n",
    "                        else:\n",
    "                            if token.l.g.get('v') == 'VERB' or token.l.g.get('v') == 'PRTF' \\\n",
    "                            or token.l.g.get('v') == 'PRTS' or token.l.g.get('v') == 'GRND' \\\n",
    "                            or token.l.g.get('v') == 'COMP' or token.l.g.get('v') == 'ADJS':\n",
    "                                paragraph_preprocessed += morph.parse(token.l.get('t'))[0].normal_form\n",
    "                                paragraph_preprocessed += ' '\n",
    "                            elif token.l.g.get('v') != 'PNCT':\n",
    "                                paragraph_preprocessed += token.l.get('t')\n",
    "                                paragraph_preprocessed += ' '\n",
    "                paragraph_preprocessed += '\\n'\n",
    "            if len(str(paragraph_preprocessed).split()) > 1:\n",
    "                paragraphs_preprocessed.append(paragraph_preprocessed)\n",
    "                paragraphs_count += 1"
   ]
  },
  {
   "cell_type": "code",
   "execution_count": null,
   "metadata": {},
   "outputs": [],
   "source": [
    "len(paragraphs_preprocessed), len(paragraphs_meta)"
   ]
  },
  {
   "cell_type": "code",
   "execution_count": null,
   "metadata": {},
   "outputs": [],
   "source": [
    "data = []\n",
    "for paragraph_preprocessed, paragraph_meta in zip(paragraphs_preprocessed, paragraphs_meta):\n",
    "    data.append([paragraph_preprocessed.strip(), paragraph_meta.strip()])"
   ]
  },
  {
   "cell_type": "code",
   "execution_count": null,
   "metadata": {},
   "outputs": [],
   "source": [
    "news_preprocessed_df = pd.DataFrame(data, columns=['paragraphs_preprocessed', 'paragraphs_meta'])"
   ]
  },
  {
   "cell_type": "code",
   "execution_count": 10,
   "metadata": {},
   "outputs": [
    {
     "data": {
      "text/plain": [
       "3321"
      ]
     },
     "execution_count": 10,
     "metadata": {},
     "output_type": "execute_result"
    }
   ],
   "source": [
    "# ~количество уникальных текстов, из которых взяты абзацы\n",
    "news_preprocessed_df.paragraphs_meta.nunique()"
   ]
  },
  {
   "cell_type": "code",
   "execution_count": 11,
   "metadata": {},
   "outputs": [],
   "source": [
    "news_preprocessed_df['words_count'] = news_preprocessed_df['paragraphs_preprocessed'].apply(lambda x: len(str(x).split()))"
   ]
  },
  {
   "cell_type": "code",
   "execution_count": 12,
   "metadata": {},
   "outputs": [
    {
     "data": {
      "text/plain": [
       "42.887546666666665"
      ]
     },
     "execution_count": 12,
     "metadata": {},
     "output_type": "execute_result"
    }
   ],
   "source": [
    "news_preprocessed_df['words_count'].mean()"
   ]
  },
  {
   "cell_type": "code",
   "execution_count": 13,
   "metadata": {},
   "outputs": [
    {
     "data": {
      "text/plain": [
       "32.0"
      ]
     },
     "execution_count": 13,
     "metadata": {},
     "output_type": "execute_result"
    }
   ],
   "source": [
    "news_preprocessed_df['words_count'].median()"
   ]
  },
  {
   "cell_type": "code",
   "execution_count": 14,
   "metadata": {},
   "outputs": [],
   "source": [
    "news_preprocessed_df = news_preprocessed_df.rename(columns={'paragraphs_preprocessed': 'preprocessed'})"
   ]
  },
  {
   "cell_type": "code",
   "execution_count": 15,
   "metadata": {},
   "outputs": [
    {
     "data": {
      "text/html": [
       "<div>\n",
       "<style scoped>\n",
       "    .dataframe tbody tr th:only-of-type {\n",
       "        vertical-align: middle;\n",
       "    }\n",
       "\n",
       "    .dataframe tbody tr th {\n",
       "        vertical-align: top;\n",
       "    }\n",
       "\n",
       "    .dataframe thead th {\n",
       "        text-align: right;\n",
       "    }\n",
       "</style>\n",
       "<table border=\"1\" class=\"dataframe\">\n",
       "  <thead>\n",
       "    <tr style=\"text-align: right;\">\n",
       "      <th></th>\n",
       "      <th>preprocessed</th>\n",
       "      <th>paragraphs_meta</th>\n",
       "      <th>words_count</th>\n",
       "    </tr>\n",
       "  </thead>\n",
       "  <tbody>\n",
       "    <tr>\n",
       "      <th>0</th>\n",
       "      <td>школа злословие учить прикусить язык \\nсохрани...</td>\n",
       "      <td>Год:2008\\nДата:25/08\\nАвтор:Валентин Колеснико...</td>\n",
       "      <td>12</td>\n",
       "    </tr>\n",
       "    <tr>\n",
       "      <th>1</th>\n",
       "      <td>великолепный школа злословие вернуться в эфир ...</td>\n",
       "      <td>Год:2008\\nДата:25/08\\nАвтор:Валентин Колеснико...</td>\n",
       "      <td>51</td>\n",
       "    </tr>\n",
       "    <tr>\n",
       "      <th>2</th>\n",
       "      <td>писательница 2 2 и сценаристка 2 2 вроде бы не...</td>\n",
       "      <td>Год:2008\\nДата:25/08\\nАвтор:Валентин Колеснико...</td>\n",
       "      <td>18</td>\n",
       "    </tr>\n",
       "    <tr>\n",
       "      <th>3</th>\n",
       "      <td>впрочем на канал культура в роль телеведущие в...</td>\n",
       "      <td>Год:2008\\nДата:25/08\\nАвтор:Валентин Колеснико...</td>\n",
       "      <td>35</td>\n",
       "    </tr>\n",
       "    <tr>\n",
       "      <th>4</th>\n",
       "      <td>в 1 школа злословие представлять 1 интервью ве...</td>\n",
       "      <td>Год:2008\\nДата:25/08\\nАвтор:Валентин Колеснико...</td>\n",
       "      <td>47</td>\n",
       "    </tr>\n",
       "  </tbody>\n",
       "</table>\n",
       "</div>"
      ],
      "text/plain": [
       "                                        preprocessed  \\\n",
       "0  школа злословие учить прикусить язык \\nсохрани...   \n",
       "1  великолепный школа злословие вернуться в эфир ...   \n",
       "2  писательница 2 2 и сценаристка 2 2 вроде бы не...   \n",
       "3  впрочем на канал культура в роль телеведущие в...   \n",
       "4  в 1 школа злословие представлять 1 интервью ве...   \n",
       "\n",
       "                                     paragraphs_meta  words_count  \n",
       "0  Год:2008\\nДата:25/08\\nАвтор:Валентин Колеснико...           12  \n",
       "1  Год:2008\\nДата:25/08\\nАвтор:Валентин Колеснико...           51  \n",
       "2  Год:2008\\nДата:25/08\\nАвтор:Валентин Колеснико...           18  \n",
       "3  Год:2008\\nДата:25/08\\nАвтор:Валентин Колеснико...           35  \n",
       "4  Год:2008\\nДата:25/08\\nАвтор:Валентин Колеснико...           47  "
      ]
     },
     "execution_count": 15,
     "metadata": {},
     "output_type": "execute_result"
    }
   ],
   "source": [
    "news_preprocessed_df.head()"
   ]
  },
  {
   "cell_type": "code",
   "execution_count": 16,
   "metadata": {},
   "outputs": [],
   "source": [
    "# запись в файл\n",
    "news_preprocessed_df.to_csv(\"news_preprocessed_df.csv\", index=False, encoding='utf-8')"
   ]
  },
  {
   "cell_type": "code",
   "execution_count": 2,
   "metadata": {},
   "outputs": [
    {
     "data": {
      "text/plain": [
       "(187500, 3)"
      ]
     },
     "execution_count": 2,
     "metadata": {},
     "output_type": "execute_result"
    }
   ],
   "source": [
    "# чтение из файла\n",
    "news_preprocessed_df = pd.read_csv('news_preprocessed_df.csv')\n",
    "news_preprocessed_df.shape"
   ]
  },
  {
   "cell_type": "markdown",
   "metadata": {},
   "source": [
    "### Получение датасета новостей по предложениям"
   ]
  },
  {
   "cell_type": "code",
   "execution_count": 10,
   "metadata": {},
   "outputs": [],
   "source": [
    "sents_list = []\n",
    "for paragraph in news_preprocessed_df['preprocessed']:\n",
    "    sents = paragraph.split('\\n')\n",
    "    for sent in sents:\n",
    "        if len(str(sent).split()) > 1:\n",
    "            sents_list.append(sent)"
   ]
  },
  {
   "cell_type": "code",
   "execution_count": 13,
   "metadata": {},
   "outputs": [
    {
     "name": "stdout",
     "output_type": "stream",
     "text": [
      "mean: 14.911335078048147\n",
      "median: 13.0\n"
     ]
    }
   ],
   "source": [
    "news_sents_preprocessed_df = pd.DataFrame(sents_list, columns=['preprocessed'])\n",
    "news_sents_preprocessed_df['words_count'] = news_sents_preprocessed_df['preprocessed'].apply(lambda x: len(str(x).split()))\n",
    "print(f\"mean: {news_sents_preprocessed_df['words_count'].mean()}\")\n",
    "print(f\"median: {news_sents_preprocessed_df['words_count'].median()}\")"
   ]
  },
  {
   "cell_type": "code",
   "execution_count": 34,
   "metadata": {},
   "outputs": [
    {
     "data": {
      "text/html": [
       "<div>\n",
       "<style scoped>\n",
       "    .dataframe tbody tr th:only-of-type {\n",
       "        vertical-align: middle;\n",
       "    }\n",
       "\n",
       "    .dataframe tbody tr th {\n",
       "        vertical-align: top;\n",
       "    }\n",
       "\n",
       "    .dataframe thead th {\n",
       "        text-align: right;\n",
       "    }\n",
       "</style>\n",
       "<table border=\"1\" class=\"dataframe\">\n",
       "  <thead>\n",
       "    <tr style=\"text-align: right;\">\n",
       "      <th></th>\n",
       "      <th>preprocessed</th>\n",
       "      <th>words_count</th>\n",
       "    </tr>\n",
       "  </thead>\n",
       "  <tbody>\n",
       "    <tr>\n",
       "      <th>0</th>\n",
       "      <td>5 5 2</td>\n",
       "      <td>3</td>\n",
       "    </tr>\n",
       "    <tr>\n",
       "      <th>1</th>\n",
       "      <td>после 1 госпожа фон ратлеф писать всё редкий и...</td>\n",
       "      <td>20</td>\n",
       "    </tr>\n",
       "    <tr>\n",
       "      <th>2</th>\n",
       "      <td>1 противостоять друг друг в время президентски...</td>\n",
       "      <td>12</td>\n",
       "    </tr>\n",
       "    <tr>\n",
       "      <th>3</th>\n",
       "      <td>в начало студент знакомиться с применение комп...</td>\n",
       "      <td>12</td>\n",
       "    </tr>\n",
       "    <tr>\n",
       "      <th>4</th>\n",
       "      <td>1 нет</td>\n",
       "      <td>2</td>\n",
       "    </tr>\n",
       "  </tbody>\n",
       "</table>\n",
       "</div>"
      ],
      "text/plain": [
       "                                        preprocessed  words_count\n",
       "0                                              5 5 2            3\n",
       "1  после 1 госпожа фон ратлеф писать всё редкий и...           20\n",
       "2  1 противостоять друг друг в время президентски...           12\n",
       "3  в начало студент знакомиться с применение комп...           12\n",
       "4                                             1 нет             2"
      ]
     },
     "execution_count": 34,
     "metadata": {},
     "output_type": "execute_result"
    }
   ],
   "source": [
    "news_sents_preprocessed_df.head(5)"
   ]
  },
  {
   "cell_type": "code",
   "execution_count": 25,
   "metadata": {},
   "outputs": [],
   "source": [
    "news_sents_preprocessed_df = news_sents_preprocessed_df.sample(150553, random_state=42)\n",
    "# запись в файл\n",
    "news_sents_preprocessed_df.to_csv('news_sents_preprocessed_df.csv', index=False, encoding='utf-8')"
   ]
  },
  {
   "cell_type": "code",
   "execution_count": 26,
   "metadata": {},
   "outputs": [
    {
     "data": {
      "text/plain": [
       "(150553, 2)"
      ]
     },
     "execution_count": 26,
     "metadata": {},
     "output_type": "execute_result"
    }
   ],
   "source": [
    "# чтение из файла\n",
    "news_sents_preprocessed_df = pd.read_csv('news_sents_preprocessed_df.csv')\n",
    "news_sents_preprocessed_df.shape"
   ]
  },
  {
   "cell_type": "markdown",
   "metadata": {
    "id": "5ZfMnapTCvzW"
   },
   "source": [
    "## Получение датасета твитов\n",
    "https://www.kaggle.com/datasets/maximsuvorov/rutweetcorp?select=twitter_corpus.csv"
   ]
  },
  {
   "cell_type": "code",
   "execution_count": 3,
   "metadata": {},
   "outputs": [],
   "source": [
    "import pandas as pd\n",
    "import re"
   ]
  },
  {
   "cell_type": "code",
   "execution_count": 4,
   "metadata": {
    "id": "jpg3r0oWCv17"
   },
   "outputs": [],
   "source": [
    "tweets_df = pd.read_csv('twitter_corpus.csv.zip', compression='zip', lineterminator='\\n')"
   ]
  },
  {
   "cell_type": "code",
   "execution_count": 5,
   "metadata": {
    "colab": {
     "base_uri": "https://localhost:8080/",
     "height": 223
    },
    "id": "5d33AF1uCv4c",
    "outputId": "372f5cf2-f33e-4dbc-e4a7-0ed0c9846dd2"
   },
   "outputs": [
    {
     "name": "stdout",
     "output_type": "stream",
     "text": [
      "(17639669, 1)\n"
     ]
    },
    {
     "data": {
      "text/html": [
       "<div>\n",
       "<style scoped>\n",
       "    .dataframe tbody tr th:only-of-type {\n",
       "        vertical-align: middle;\n",
       "    }\n",
       "\n",
       "    .dataframe tbody tr th {\n",
       "        vertical-align: top;\n",
       "    }\n",
       "\n",
       "    .dataframe thead th {\n",
       "        text-align: right;\n",
       "    }\n",
       "</style>\n",
       "<table border=\"1\" class=\"dataframe\">\n",
       "  <thead>\n",
       "    <tr style=\"text-align: right;\">\n",
       "      <th></th>\n",
       "      <th>text</th>\n",
       "    </tr>\n",
       "  </thead>\n",
       "  <tbody>\n",
       "    <tr>\n",
       "      <th>0</th>\n",
       "      <td>Пропавшая в Хабаровске школьница почти сутки п...</td>\n",
       "    </tr>\n",
       "    <tr>\n",
       "      <th>1</th>\n",
       "      <td>ЛЕНТА, Я СЕГОДНЯ ПОЛГОДА ДИРЕКШИОНЕЕЕЕР! С:\\nХ...</td>\n",
       "    </tr>\n",
       "    <tr>\n",
       "      <th>2</th>\n",
       "      <td>Царствие Божие внутрь вас есть.</td>\n",
       "    </tr>\n",
       "    <tr>\n",
       "      <th>3</th>\n",
       "      <td>RT @TwitRegion: Ученые: кофе приносит намного ...</td>\n",
       "    </tr>\n",
       "    <tr>\n",
       "      <th>4</th>\n",
       "      <td>http://t.co/ZzzwYLSmon справка по адаптации 5 ...</td>\n",
       "    </tr>\n",
       "  </tbody>\n",
       "</table>\n",
       "</div>"
      ],
      "text/plain": [
       "                                                text\n",
       "0  Пропавшая в Хабаровске школьница почти сутки п...\n",
       "1  ЛЕНТА, Я СЕГОДНЯ ПОЛГОДА ДИРЕКШИОНЕЕЕЕР! С:\\nХ...\n",
       "2                    Царствие Божие внутрь вас есть.\n",
       "3  RT @TwitRegion: Ученые: кофе приносит намного ...\n",
       "4  http://t.co/ZzzwYLSmon справка по адаптации 5 ..."
      ]
     },
     "execution_count": 5,
     "metadata": {},
     "output_type": "execute_result"
    }
   ],
   "source": [
    "print(tweets_df.shape)\n",
    "tweets_df.head()"
   ]
  },
  {
   "cell_type": "code",
   "execution_count": 6,
   "metadata": {
    "id": "c2RV_trLGuIA"
   },
   "outputs": [],
   "source": [
    "tweets_df['words_count'] = tweets_df['text'].apply(lambda x: len(str(x).split()))"
   ]
  },
  {
   "cell_type": "code",
   "execution_count": 9,
   "metadata": {
    "colab": {
     "base_uri": "https://localhost:8080/"
    },
    "id": "07kynT7XGuQM",
    "outputId": "4d9906f7-d47b-4db7-d04a-4721b4454564"
   },
   "outputs": [
    {
     "data": {
      "text/plain": [
       "9.655676588942796"
      ]
     },
     "execution_count": 9,
     "metadata": {},
     "output_type": "execute_result"
    }
   ],
   "source": [
    "tweets_df['words_count'].mean()"
   ]
  },
  {
   "cell_type": "code",
   "execution_count": 21,
   "metadata": {},
   "outputs": [
    {
     "name": "stdout",
     "output_type": "stream",
     "text": [
      "(17639669, 2)\n"
     ]
    },
    {
     "data": {
      "text/plain": [
       "(380917, 2)"
      ]
     },
     "execution_count": 21,
     "metadata": {},
     "output_type": "execute_result"
    }
   ],
   "source": [
    "print(tweets_df.shape)\n",
    "tweets_df = tweets_df[tweets_df['words_count'] >= 23]\n",
    "tweets_df.shape"
   ]
  },
  {
   "cell_type": "code",
   "execution_count": 22,
   "metadata": {
    "id": "_LLqGoJVJiCh"
   },
   "outputs": [
    {
     "data": {
      "text/plain": [
       "24.36486163652449"
      ]
     },
     "execution_count": 22,
     "metadata": {},
     "output_type": "execute_result"
    }
   ],
   "source": [
    "tweets_df['words_count'].mean()"
   ]
  },
  {
   "cell_type": "code",
   "execution_count": 23,
   "metadata": {},
   "outputs": [
    {
     "data": {
      "text/plain": [
       "24.0"
      ]
     },
     "execution_count": 23,
     "metadata": {},
     "output_type": "execute_result"
    }
   ],
   "source": [
    "tweets_df['words_count'].median()"
   ]
  },
  {
   "cell_type": "code",
   "execution_count": 24,
   "metadata": {
    "id": "BmMKBundH3xV"
   },
   "outputs": [],
   "source": [
    "tweets_df.to_csv('tweets_23words_or_longer.csv', index=False, encoding='utf-8')"
   ]
  },
  {
   "cell_type": "code",
   "execution_count": 25,
   "metadata": {},
   "outputs": [],
   "source": [
    "tweets_df = pd.read_csv('tweets_23words_or_longer.csv')"
   ]
  },
  {
   "cell_type": "code",
   "execution_count": 20,
   "metadata": {},
   "outputs": [
    {
     "data": {
      "text/plain": [
       "(array([5.9005e+04, 0.0000e+00, 3.8991e+04, 0.0000e+00, 2.4723e+04,\n",
       "        0.0000e+00, 1.3389e+04, 0.0000e+00, 7.3070e+03, 0.0000e+00,\n",
       "        3.5410e+03, 0.0000e+00, 1.6570e+03, 0.0000e+00, 0.0000e+00,\n",
       "        7.6900e+02, 0.0000e+00, 3.2700e+02, 0.0000e+00, 2.3600e+02,\n",
       "        0.0000e+00, 1.1800e+02, 0.0000e+00, 2.4000e+01, 0.0000e+00,\n",
       "        4.6000e+01, 0.0000e+00, 3.2000e+01, 0.0000e+00, 0.0000e+00,\n",
       "        1.3000e+01, 0.0000e+00, 1.4000e+01, 0.0000e+00, 3.1000e+01,\n",
       "        0.0000e+00, 2.7000e+01, 0.0000e+00, 1.7000e+01, 0.0000e+00,\n",
       "        9.0000e+00, 0.0000e+00, 1.2000e+01, 0.0000e+00, 0.0000e+00,\n",
       "        1.8000e+01, 0.0000e+00, 1.0000e+01, 0.0000e+00, 7.0000e+00,\n",
       "        0.0000e+00, 6.0000e+00, 0.0000e+00, 4.0000e+00, 0.0000e+00,\n",
       "        2.2000e+01, 0.0000e+00, 2.1000e+01, 0.0000e+00, 0.0000e+00,\n",
       "        1.3000e+01, 0.0000e+00, 4.0000e+00, 0.0000e+00, 8.0000e+00,\n",
       "        0.0000e+00, 1.0000e+01, 0.0000e+00, 9.0000e+00, 0.0000e+00,\n",
       "        7.0000e+00, 0.0000e+00, 5.0000e+00, 0.0000e+00, 0.0000e+00,\n",
       "        4.0000e+00, 0.0000e+00, 7.0000e+00, 0.0000e+00, 5.0000e+00,\n",
       "        0.0000e+00, 8.0000e+00, 0.0000e+00, 0.0000e+00, 0.0000e+00,\n",
       "        1.0000e+00, 0.0000e+00, 4.0000e+00, 0.0000e+00, 1.0000e+00]),\n",
       " array([23.        , 23.46666667, 23.93333333, 24.4       , 24.86666667,\n",
       "        25.33333333, 25.8       , 26.26666667, 26.73333333, 27.2       ,\n",
       "        27.66666667, 28.13333333, 28.6       , 29.06666667, 29.53333333,\n",
       "        30.        , 30.46666667, 30.93333333, 31.4       , 31.86666667,\n",
       "        32.33333333, 32.8       , 33.26666667, 33.73333333, 34.2       ,\n",
       "        34.66666667, 35.13333333, 35.6       , 36.06666667, 36.53333333,\n",
       "        37.        , 37.46666667, 37.93333333, 38.4       , 38.86666667,\n",
       "        39.33333333, 39.8       , 40.26666667, 40.73333333, 41.2       ,\n",
       "        41.66666667, 42.13333333, 42.6       , 43.06666667, 43.53333333,\n",
       "        44.        , 44.46666667, 44.93333333, 45.4       , 45.86666667,\n",
       "        46.33333333, 46.8       , 47.26666667, 47.73333333, 48.2       ,\n",
       "        48.66666667, 49.13333333, 49.6       , 50.06666667, 50.53333333,\n",
       "        51.        , 51.46666667, 51.93333333, 52.4       , 52.86666667,\n",
       "        53.33333333, 53.8       , 54.26666667, 54.73333333, 55.2       ,\n",
       "        55.66666667, 56.13333333, 56.6       , 57.06666667, 57.53333333,\n",
       "        58.        , 58.46666667, 58.93333333, 59.4       , 59.86666667,\n",
       "        60.33333333, 60.8       , 61.26666667, 61.73333333, 62.2       ,\n",
       "        62.66666667, 63.13333333, 63.6       , 64.06666667, 64.53333333,\n",
       "        65.        ]),\n",
       " <BarContainer object of 90 artists>)"
      ]
     },
     "execution_count": 20,
     "metadata": {},
     "output_type": "execute_result"
    },
    {
     "data": {
      "image/png": "[encoded data removed]",
      "text/plain": [
       "<Figure size 640x480 with 1 Axes>"
      ]
     },
     "metadata": {},
     "output_type": "display_data"
    }
   ],
   "source": [
    "plt.hist(tweets_slice_df['words_count'], bins=90)"
   ]
  },
  {
   "cell_type": "code",
   "execution_count": 26,
   "metadata": {},
   "outputs": [
    {
     "name": "stderr",
     "output_type": "stream",
     "text": [
      "100%|██████████| 380917/380917 [00:03<00:00, 99590.02it/s] \n"
     ]
    }
   ],
   "source": [
    "from tqdm import tqdm\n",
    "tqdm.pandas()\n",
    "\n",
    "tweets_df['prepared'] = tweets_df['text'].progress_apply(lambda x: re.sub('(@[A-za-z0-9:]+)|(RT)|(http[A-za-z0-9:\\/\\.]+)', '', x))"
   ]
  },
  {
   "cell_type": "code",
   "execution_count": 27,
   "metadata": {},
   "outputs": [
    {
     "data": {
      "text/html": [
       "<div>\n",
       "<style scoped>\n",
       "    .dataframe tbody tr th:only-of-type {\n",
       "        vertical-align: middle;\n",
       "    }\n",
       "\n",
       "    .dataframe tbody tr th {\n",
       "        vertical-align: top;\n",
       "    }\n",
       "\n",
       "    .dataframe thead th {\n",
       "        text-align: right;\n",
       "    }\n",
       "</style>\n",
       "<table border=\"1\" class=\"dataframe\">\n",
       "  <thead>\n",
       "    <tr style=\"text-align: right;\">\n",
       "      <th></th>\n",
       "      <th>text</th>\n",
       "      <th>words_count</th>\n",
       "      <th>prepared</th>\n",
       "    </tr>\n",
       "  </thead>\n",
       "  <tbody>\n",
       "    <tr>\n",
       "      <th>0</th>\n",
       "      <td>RT @v1ka_si: Меня удивляют эти маленькие девоч...</td>\n",
       "      <td>23</td>\n",
       "      <td>Меня удивляют эти маленькие девочки которые ...</td>\n",
       "    </tr>\n",
       "    <tr>\n",
       "      <th>1</th>\n",
       "      <td>RT @digger2912: \"Кто то в углу сидит и погибае...</td>\n",
       "      <td>26</td>\n",
       "      <td>\"Кто то в углу сидит и погибает от голода, а...</td>\n",
       "    </tr>\n",
       "    <tr>\n",
       "      <th>2</th>\n",
       "      <td>А еще, а еще, на вчерашней вокальной тренировк...</td>\n",
       "      <td>24</td>\n",
       "      <td>А еще, а еще, на вчерашней вокальной тренировк...</td>\n",
       "    </tr>\n",
       "    <tr>\n",
       "      <th>3</th>\n",
       "      <td>RT @Bewit_ru: В фильмах по утрам у всех есть в...</td>\n",
       "      <td>25</td>\n",
       "      <td>В фильмах по утрам у всех есть время принять...</td>\n",
       "    </tr>\n",
       "    <tr>\n",
       "      <th>4</th>\n",
       "      <td>RT @5umm: Мне предстоит прожить в будущем всю ...</td>\n",
       "      <td>23</td>\n",
       "      <td>Мне предстоит прожить в будущем всю оставшую...</td>\n",
       "    </tr>\n",
       "  </tbody>\n",
       "</table>\n",
       "</div>"
      ],
      "text/plain": [
       "                                                text  words_count  \\\n",
       "0  RT @v1ka_si: Меня удивляют эти маленькие девоч...           23   \n",
       "1  RT @digger2912: \"Кто то в углу сидит и погибае...           26   \n",
       "2  А еще, а еще, на вчерашней вокальной тренировк...           24   \n",
       "3  RT @Bewit_ru: В фильмах по утрам у всех есть в...           25   \n",
       "4  RT @5umm: Мне предстоит прожить в будущем всю ...           23   \n",
       "\n",
       "                                            prepared  \n",
       "0    Меня удивляют эти маленькие девочки которые ...  \n",
       "1    \"Кто то в углу сидит и погибает от голода, а...  \n",
       "2  А еще, а еще, на вчерашней вокальной тренировк...  \n",
       "3    В фильмах по утрам у всех есть время принять...  \n",
       "4    Мне предстоит прожить в будущем всю оставшую...  "
      ]
     },
     "execution_count": 27,
     "metadata": {},
     "output_type": "execute_result"
    }
   ],
   "source": [
    "tweets_df.head()"
   ]
  },
  {
   "cell_type": "code",
   "execution_count": 28,
   "metadata": {},
   "outputs": [],
   "source": [
    "tweets_df.to_csv('tweets_23words_or_longer_prepared.csv', index=False, encoding='utf-8')"
   ]
  },
  {
   "cell_type": "code",
   "execution_count": 35,
   "metadata": {},
   "outputs": [],
   "source": [
    "tweets_slice_df = tweets_df.sample(150553, random_state=42)\n",
    "tweets_slice_df.to_csv('tweets_23words_or_longer_slice_prepared.csv', index=False, encoding='utf-8')"
   ]
  },
  {
   "cell_type": "code",
   "execution_count": 36,
   "metadata": {},
   "outputs": [
    {
     "data": {
      "text/plain": [
       "(150553, 3)"
      ]
     },
     "execution_count": 36,
     "metadata": {},
     "output_type": "execute_result"
    }
   ],
   "source": [
    "tweets_slice_df.shape"
   ]
  },
  {
   "cell_type": "markdown",
   "metadata": {},
   "source": [
    "## Предобработка датасета твитов"
   ]
  },
  {
   "cell_type": "code",
   "execution_count": 4,
   "metadata": {},
   "outputs": [],
   "source": [
    "import pandas as pd\n",
    "from tqdm import tqdm\n",
    "tqdm.pandas()"
   ]
  },
  {
   "cell_type": "code",
   "execution_count": 38,
   "metadata": {},
   "outputs": [
    {
     "data": {
      "text/html": [
       "<div>\n",
       "<style scoped>\n",
       "    .dataframe tbody tr th:only-of-type {\n",
       "        vertical-align: middle;\n",
       "    }\n",
       "\n",
       "    .dataframe tbody tr th {\n",
       "        vertical-align: top;\n",
       "    }\n",
       "\n",
       "    .dataframe thead th {\n",
       "        text-align: right;\n",
       "    }\n",
       "</style>\n",
       "<table border=\"1\" class=\"dataframe\">\n",
       "  <thead>\n",
       "    <tr style=\"text-align: right;\">\n",
       "      <th></th>\n",
       "      <th>text</th>\n",
       "      <th>words_count</th>\n",
       "      <th>prepared</th>\n",
       "    </tr>\n",
       "  </thead>\n",
       "  <tbody>\n",
       "    <tr>\n",
       "      <th>0</th>\n",
       "      <td>RT @losevmn: Во время блокады в Ленинграде ни ...</td>\n",
       "      <td>25</td>\n",
       "      <td>Во время блокады в Ленинграде ни умер НИ ОДИ...</td>\n",
       "    </tr>\n",
       "    <tr>\n",
       "      <th>1</th>\n",
       "      <td>от имени начальника гу мвд россии по пермскому...</td>\n",
       "      <td>24</td>\n",
       "      <td>от имени начальника гу мвд россии по пермскому...</td>\n",
       "    </tr>\n",
       "    <tr>\n",
       "      <th>2</th>\n",
       "      <td>Такое ощущение, что я плачу репетитору за то, ...</td>\n",
       "      <td>23</td>\n",
       "      <td>Такое ощущение, что я плачу репетитору за то, ...</td>\n",
       "    </tr>\n",
       "    <tr>\n",
       "      <th>3</th>\n",
       "      <td>Ко всем не всегда тактичным молодым политикам ...</td>\n",
       "      <td>25</td>\n",
       "      <td>Ко всем не всегда тактичным молодым политикам ...</td>\n",
       "    </tr>\n",
       "    <tr>\n",
       "      <th>4</th>\n",
       "      <td>RT @SugarVodonaeva: \"И пусть мы засыпаем в раз...</td>\n",
       "      <td>26</td>\n",
       "      <td>\"И пусть мы засыпаем в разных кроватях - гла...</td>\n",
       "    </tr>\n",
       "  </tbody>\n",
       "</table>\n",
       "</div>"
      ],
      "text/plain": [
       "                                                text  words_count  \\\n",
       "0  RT @losevmn: Во время блокады в Ленинграде ни ...           25   \n",
       "1  от имени начальника гу мвд россии по пермскому...           24   \n",
       "2  Такое ощущение, что я плачу репетитору за то, ...           23   \n",
       "3  Ко всем не всегда тактичным молодым политикам ...           25   \n",
       "4  RT @SugarVodonaeva: \"И пусть мы засыпаем в раз...           26   \n",
       "\n",
       "                                            prepared  \n",
       "0    Во время блокады в Ленинграде ни умер НИ ОДИ...  \n",
       "1  от имени начальника гу мвд россии по пермскому...  \n",
       "2  Такое ощущение, что я плачу репетитору за то, ...  \n",
       "3  Ко всем не всегда тактичным молодым политикам ...  \n",
       "4    \"И пусть мы засыпаем в разных кроватях - гла...  "
      ]
     },
     "execution_count": 38,
     "metadata": {},
     "output_type": "execute_result"
    }
   ],
   "source": [
    "# чтение из файла\n",
    "tweets_slice_df = pd.read_csv('tweets_23words_or_longer_slice_prepared.csv')\n",
    "tweets_slice_df.head()"
   ]
  },
  {
   "cell_type": "code",
   "execution_count": 39,
   "metadata": {},
   "outputs": [
    {
     "name": "stderr",
     "output_type": "stream",
     "text": [
      "100%|██████████| 11/11 [00:10<00:00,  1.04it/s]\n",
      "C:\\Users\\ttais\\AppData\\Local\\Temp\\ipykernel_7752\\4140750299.py:2: SettingWithCopyWarning: \n",
      "A value is trying to be set on a copy of a slice from a DataFrame.\n",
      "Try using .loc[row_indexer,col_indexer] = value instead\n",
      "\n",
      "See the caveats in the documentation: https://pandas.pydata.org/pandas-docs/stable/user_guide/indexing.html#returning-a-view-versus-a-copy\n",
      "  tweets_preprocessed_df['preprocessed'] = tweets_preprocessed_df['prepared'].progress_apply(lambda x: prepare_russian_text(x))\n"
     ]
    }
   ],
   "source": [
    "tweets_preprocessed_df = tweets_slice_df.loc[:10]\n",
    "tweets_preprocessed_df['preprocessed'] = tweets_preprocessed_df['prepared'].progress_apply(lambda x: prepare_russian_text(x))"
   ]
  },
  {
   "cell_type": "code",
   "execution_count": 40,
   "metadata": {},
   "outputs": [],
   "source": [
    "# запись в файл\n",
    "tweets_preprocessed_df.to_csv(\"tweets_preprocessed_df.csv\", index=False, encoding='utf-8')"
   ]
  },
  {
   "cell_type": "markdown",
   "metadata": {},
   "source": [
    "### Итеративное расширение на весь датасет твитов (обрезанный под размер датасета шуток)"
   ]
  },
  {
   "cell_type": "code",
   "execution_count": 5,
   "metadata": {},
   "outputs": [],
   "source": [
    "# чтение из файла\n",
    "tweets_slice_df = pd.read_csv('tweets_23words_or_longer_slice_prepared.csv')"
   ]
  },
  {
   "cell_type": "code",
   "execution_count": 13,
   "metadata": {},
   "outputs": [
    {
     "name": "stdout",
     "output_type": "stream",
     "text": [
      "(150553, 3)\n"
     ]
    },
    {
     "name": "stderr",
     "output_type": "stream",
     "text": [
      "100%|██████████| 17552/17552 [6:44:40<00:00,  1.38s/it]   \n",
      "C:\\Users\\ttais\\AppData\\Local\\Temp\\ipykernel_12576\\1776679022.py:3: SettingWithCopyWarning: \n",
      "A value is trying to be set on a copy of a slice from a DataFrame.\n",
      "Try using .loc[row_indexer,col_indexer] = value instead\n",
      "\n",
      "See the caveats in the documentation: https://pandas.pydata.org/pandas-docs/stable/user_guide/indexing.html#returning-a-view-versus-a-copy\n",
      "  tweets_preprocessed_df['preprocessed'] = tweets_preprocessed_df['prepared'].progress_apply(lambda x: prepare_russian_text(x))\n"
     ]
    }
   ],
   "source": [
    "print(tweets_slice_df.shape)\n",
    "tweets_preprocessed_df = tweets_slice_df.loc[133001:]\n",
    "tweets_preprocessed_df['preprocessed'] = tweets_preprocessed_df['prepared'].progress_apply(lambda x: prepare_russian_text(x))\n",
    "tweets_preprocessed_df.to_csv('tweets_preprocessed_df.csv', mode='a', index=False, header=False, encoding='utf-8')"
   ]
  },
  {
   "cell_type": "code",
   "execution_count": 14,
   "metadata": {},
   "outputs": [
    {
     "name": "stdout",
     "output_type": "stream",
     "text": [
      "(150553, 4)\n"
     ]
    },
    {
     "data": {
      "text/html": [
       "<div>\n",
       "<style scoped>\n",
       "    .dataframe tbody tr th:only-of-type {\n",
       "        vertical-align: middle;\n",
       "    }\n",
       "\n",
       "    .dataframe tbody tr th {\n",
       "        vertical-align: top;\n",
       "    }\n",
       "\n",
       "    .dataframe thead th {\n",
       "        text-align: right;\n",
       "    }\n",
       "</style>\n",
       "<table border=\"1\" class=\"dataframe\">\n",
       "  <thead>\n",
       "    <tr style=\"text-align: right;\">\n",
       "      <th></th>\n",
       "      <th>text</th>\n",
       "      <th>words_count</th>\n",
       "      <th>prepared</th>\n",
       "      <th>preprocessed</th>\n",
       "    </tr>\n",
       "  </thead>\n",
       "  <tbody>\n",
       "    <tr>\n",
       "      <th>0</th>\n",
       "      <td>RT @losevmn: Во время блокады в Ленинграде ни ...</td>\n",
       "      <td>25</td>\n",
       "      <td>Во время блокады в Ленинграде ни умер НИ ОДИ...</td>\n",
       "      <td>в время блокада в 0 ни умереть ни 1 партийный ...</td>\n",
       "    </tr>\n",
       "    <tr>\n",
       "      <th>1</th>\n",
       "      <td>от имени начальника гу мвд россии по пермскому...</td>\n",
       "      <td>24</td>\n",
       "      <td>от имени начальника гу мвд россии по пермскому...</td>\n",
       "      <td>от имя начальник гу мвд россия по пермский кра...</td>\n",
       "    </tr>\n",
       "    <tr>\n",
       "      <th>2</th>\n",
       "      <td>Такое ощущение, что я плачу репетитору за то, ...</td>\n",
       "      <td>23</td>\n",
       "      <td>Такое ощущение, что я плачу репетитору за то, ...</td>\n",
       "      <td>такой ощущение что 1 плакать репетитор за 1 чт...</td>\n",
       "    </tr>\n",
       "    <tr>\n",
       "      <th>3</th>\n",
       "      <td>Ко всем не всегда тактичным молодым политикам ...</td>\n",
       "      <td>25</td>\n",
       "      <td>Ко всем не всегда тактичным молодым политикам ...</td>\n",
       "      <td>к весь не всегда 0 молодой политик оставить в ...</td>\n",
       "    </tr>\n",
       "    <tr>\n",
       "      <th>4</th>\n",
       "      <td>RT @SugarVodonaeva: \"И пусть мы засыпаем в раз...</td>\n",
       "      <td>26</td>\n",
       "      <td>\"И пусть мы засыпаем в разных кроватях - гла...</td>\n",
       "      <td>и пусть 1 засыпать в разный кровать главный чт...</td>\n",
       "    </tr>\n",
       "  </tbody>\n",
       "</table>\n",
       "</div>"
      ],
      "text/plain": [
       "                                                text  words_count  \\\n",
       "0  RT @losevmn: Во время блокады в Ленинграде ни ...           25   \n",
       "1  от имени начальника гу мвд россии по пермскому...           24   \n",
       "2  Такое ощущение, что я плачу репетитору за то, ...           23   \n",
       "3  Ко всем не всегда тактичным молодым политикам ...           25   \n",
       "4  RT @SugarVodonaeva: \"И пусть мы засыпаем в раз...           26   \n",
       "\n",
       "                                            prepared  \\\n",
       "0    Во время блокады в Ленинграде ни умер НИ ОДИ...   \n",
       "1  от имени начальника гу мвд россии по пермскому...   \n",
       "2  Такое ощущение, что я плачу репетитору за то, ...   \n",
       "3  Ко всем не всегда тактичным молодым политикам ...   \n",
       "4    \"И пусть мы засыпаем в разных кроватях - гла...   \n",
       "\n",
       "                                        preprocessed  \n",
       "0  в время блокада в 0 ни умереть ни 1 партийный ...  \n",
       "1  от имя начальник гу мвд россия по пермский кра...  \n",
       "2  такой ощущение что 1 плакать репетитор за 1 чт...  \n",
       "3  к весь не всегда 0 молодой политик оставить в ...  \n",
       "4  и пусть 1 засыпать в разный кровать главный чт...  "
      ]
     },
     "execution_count": 14,
     "metadata": {},
     "output_type": "execute_result"
    }
   ],
   "source": [
    "tweets_preprocessed_df = pd.read_csv('tweets_preprocessed_df.csv')\n",
    "print(tweets_preprocessed_df.shape)\n",
    "tweets_preprocessed_df.head()"
   ]
  },
  {
   "cell_type": "markdown",
   "metadata": {},
   "source": [
    "## Предобученные fasttext для русского"
   ]
  },
  {
   "cell_type": "markdown",
   "metadata": {},
   "source": [
    "**Fasttext документация** https://fasttext.cc/docs/en/python-module.html\n",
    "\n",
    "**Предобученные fasttext модели** https://fasttext.cc/docs/en/crawl-vectors.html"
   ]
  },
  {
   "cell_type": "code",
   "execution_count": 18,
   "metadata": {},
   "outputs": [],
   "source": [
    "import io\n",
    "import fasttext.util"
   ]
  },
  {
   "cell_type": "code",
   "execution_count": 19,
   "metadata": {},
   "outputs": [],
   "source": [
    "def save_dictionary(fname, dictionary, args):\n",
    "    length, dimension = args\n",
    "    fin = io.open(fname, 'w', encoding='utf-8')\n",
    "    fin.write('%d %d\\n' % (length, dimension))\n",
    "    for word in dictionary:\n",
    "        fin.write('%s %s\\n' % (word, ' '.join(map(str, dictionary[word]))))\n",
    "        \n",
    "def load_dictionary(fname):\n",
    "    fin = io.open(fname, 'r', encoding='utf-8', newline='\\n', errors='ignore')\n",
    "    length, dimension = map(int, fin.readline().split())\n",
    "    dictionary = {}\n",
    "    for line in fin:\n",
    "        tokens = line.rstrip().split(' ')\n",
    "        dictionary[tokens[0]] = map(float, tokens[1:])\n",
    "    return dictionary"
   ]
  },
  {
   "cell_type": "code",
   "execution_count": 20,
   "metadata": {},
   "outputs": [
    {
     "data": {
      "text/plain": [
       "'cc.ru.300.bin'"
      ]
     },
     "execution_count": 20,
     "metadata": {},
     "output_type": "execute_result"
    }
   ],
   "source": [
    "fasttext.util.download_model('ru', if_exists='ignore')"
   ]
  },
  {
   "cell_type": "code",
   "execution_count": 21,
   "metadata": {},
   "outputs": [],
   "source": [
    "model = fasttext.load_model('cc.ru.300.bin')"
   ]
  },
  {
   "cell_type": "markdown",
   "metadata": {},
   "source": [
    "## Подсчёт Евклидовых расстояний, дисперсии и максимального расстояния абзацев новостей, твитов и анекдотов на основе векторов fasttext"
   ]
  },
  {
   "cell_type": "code",
   "execution_count": 118,
   "metadata": {},
   "outputs": [],
   "source": [
    "# !pip install seaborn"
   ]
  },
  {
   "cell_type": "code",
   "execution_count": 22,
   "metadata": {},
   "outputs": [],
   "source": [
    "import numpy as np\n",
    "import pandas as pd\n",
    "from matplotlib import pyplot as plt\n",
    "import seaborn as sns\n",
    "from scipy import stats\n",
    "from scipy.stats import wilcoxon\n",
    "from tqdm import tqdm\n",
    "tqdm.pandas()"
   ]
  },
  {
   "cell_type": "code",
   "execution_count": 23,
   "metadata": {},
   "outputs": [],
   "source": [
    "def text_euclidian_distances(text):\n",
    "    text_list = str(text).split()\n",
    "    text_euclidian_dist_vec = np.zeros(len(text_list) - 1)\n",
    "    for i in range(1, len(text_list)):\n",
    "        text_euclidian_dist_vec[i - 1] = np.linalg.norm(model[text_list[i]] - model[text_list[i - 1]])\n",
    "    return text_euclidian_dist_vec\n",
    "\n",
    "def text_distances_variation(text):\n",
    "    text_dist = text_euclidian_distances(text)\n",
    "    if np.any(text_dist):\n",
    "        return np.var(text_dist)\n",
    "    else:\n",
    "        return None\n",
    "\n",
    "def text_distances_max(text):\n",
    "    text_dist = text_euclidian_distances(text)\n",
    "    if np.any(text_dist):\n",
    "        return np.max(text_dist)\n",
    "    else:\n",
    "        return None"
   ]
  },
  {
   "cell_type": "code",
   "execution_count": 20,
   "metadata": {},
   "outputs": [
    {
     "name": "stderr",
     "output_type": "stream",
     "text": [
      "100%|██████████| 150553/150553 [05:07<00:00, 488.92it/s]\n",
      "100%|██████████| 150553/150553 [03:57<00:00, 634.40it/s]\n",
      "100%|██████████| 150553/150553 [06:11<00:00, 405.10it/s]\n",
      "100%|██████████| 150553/150553 [04:32<00:00, 553.38it/s]\n",
      "100%|██████████| 150553/150553 [08:01<00:00, 312.68it/s]\n",
      "100%|██████████| 150553/150553 [05:52<00:00, 427.10it/s]\n"
     ]
    }
   ],
   "source": [
    "tweets_slice_df = pd.read_csv('tweets_preprocessed_df.csv')\n",
    "tweets_slice_df[\"variation\"] = tweets_slice_df[\"preprocessed\"].progress_apply(text_distances_variation)\n",
    "tweets_slice_df[\"max_dist\"] = tweets_slice_df[\"preprocessed\"].progress_apply(text_distances_max)\n",
    "\n",
    "jokes_slice_df = pd.read_csv('jokes_slice_df.csv')\n",
    "jokes_slice_df[\"variation\"] = jokes_slice_df[\"preprocessed\"].progress_apply(text_distances_variation)\n",
    "jokes_slice_df[\"max_dist\"] = jokes_slice_df[\"preprocessed\"].progress_apply(text_distances_max)"
   ]
  },
  {
   "cell_type": "code",
   "execution_count": 7,
   "metadata": {},
   "outputs": [
    {
     "name": "stderr",
     "output_type": "stream",
     "text": [
      "100%|██████████| 187500/187500 [03:59<00:00, 784.20it/s] \n",
      "100%|██████████| 187500/187500 [02:54<00:00, 1074.86it/s]\n"
     ]
    }
   ],
   "source": [
    "news_paragraphs_slice_df = pd.read_csv('news_preprocessed_df.csv')\n",
    "news_paragraphs_slice_df[\"variation\"] = news_paragraphs_slice_df[\"preprocessed\"].progress_apply(text_distances_variation)\n",
    "news_paragraphs_slice_df[\"max_dist\"] = news_paragraphs_slice_df[\"preprocessed\"].progress_apply(text_distances_max)"
   ]
  },
  {
   "cell_type": "code",
   "execution_count": 35,
   "metadata": {},
   "outputs": [
    {
     "name": "stderr",
     "output_type": "stream",
     "text": [
      "100%|██████████| 150553/150553 [03:44<00:00, 669.31it/s] \n",
      "100%|██████████| 150553/150553 [02:05<00:00, 1200.59it/s]\n"
     ]
    }
   ],
   "source": [
    "news_sents_slice_df = pd.read_csv('news_sents_preprocessed_df.csv')\n",
    "news_sents_slice_df[\"variation\"] = news_sents_slice_df[\"preprocessed\"].progress_apply(text_distances_variation)\n",
    "news_sents_slice_df[\"max_dist\"] = news_sents_slice_df[\"preprocessed\"].progress_apply(text_distances_max)"
   ]
  },
  {
   "cell_type": "code",
   "execution_count": 48,
   "metadata": {},
   "outputs": [
    {
     "name": "stdout",
     "output_type": "stream",
     "text": [
      "(150348, 6)\n"
     ]
    }
   ],
   "source": [
    "tweets_slice_df = tweets_slice_df.dropna(how='any',axis=0) \n",
    "tweets_slice_df = tweets_slice_df.sample(150348)\n",
    "print(tweets_slice_df.shape)\n",
    "tweets_slice_df.to_csv('tweets_statistics.csv', index=False, encoding='utf-8')"
   ]
  },
  {
   "cell_type": "code",
   "execution_count": 47,
   "metadata": {},
   "outputs": [
    {
     "name": "stdout",
     "output_type": "stream",
     "text": [
      "(150348, 5)\n"
     ]
    }
   ],
   "source": [
    "jokes_slice_df = jokes_slice_df.dropna(how='any',axis=0)\n",
    "jokes_slice_df = jokes_slice_df.sample(150348)\n",
    "print(jokes_slice_df.shape)\n",
    "jokes_slice_df.to_csv('jokes_statistics.csv', index=False, encoding='utf-8')"
   ]
  },
  {
   "cell_type": "code",
   "execution_count": 49,
   "metadata": {},
   "outputs": [
    {
     "name": "stdout",
     "output_type": "stream",
     "text": [
      "(150348, 5)\n"
     ]
    }
   ],
   "source": [
    "news_paragraphs_slice_df = news_paragraphs_slice_df.dropna(subset=['variation'])\n",
    "news_paragraphs_slice_df = news_paragraphs_slice_df.sample(150348)\n",
    "print(news_paragraphs_slice_df.shape)\n",
    "news_paragraphs_slice_df.to_csv('news_paragraphs_statistics.csv', index=False, encoding='utf-8')"
   ]
  },
  {
   "cell_type": "code",
   "execution_count": 50,
   "metadata": {},
   "outputs": [
    {
     "name": "stdout",
     "output_type": "stream",
     "text": [
      "(150348, 4)\n"
     ]
    }
   ],
   "source": [
    "news_sents_slice_df = news_sents_slice_df.dropna(how='any',axis=0)\n",
    "print(news_sents_slice_df.shape)\n",
    "news_sents_slice_df.to_csv('news_sents_statistics.csv', index=False, encoding='utf-8')"
   ]
  },
  {
   "cell_type": "code",
   "execution_count": 75,
   "metadata": {},
   "outputs": [],
   "source": [
    "jokes_slice_df = pd.read_csv('jokes_statistics.csv')\n",
    "tweets_slice_df = pd.read_csv('tweets_statistics.csv')\n",
    "news_paragraphs_slice_df = pd.read_csv('news_paragraphs_statistics.csv')\n",
    "news_sents_slice_df = pd.read_csv('news_sents_statistics.csv')"
   ]
  },
  {
   "cell_type": "code",
   "execution_count": 52,
   "metadata": {},
   "outputs": [],
   "source": [
    "def bootstrap(data, stat_function, iter_count=10000):\n",
    "    bootstrap_stats = []\n",
    "    for i in tqdm(range(iter_count)):\n",
    "        sample = np.random.choice(data, size=len(data), replace=True)\n",
    "        stat = stat_function(sample)\n",
    "        bootstrap_stats.append(stat)\n",
    "    return np.array(bootstrap_stats)"
   ]
  },
  {
   "cell_type": "markdown",
   "metadata": {},
   "source": [
    "## Дисперсия абзацев новостей, твитов и анекдотов на основе векторов fasttext"
   ]
  },
  {
   "cell_type": "code",
   "execution_count": 113,
   "metadata": {},
   "outputs": [
    {
     "data": {
      "image/png": "[encoded data removed]",
      "text/plain": [
       "<Figure size 800x400 with 4 Axes>"
      ]
     },
     "metadata": {},
     "output_type": "display_data"
    }
   ],
   "source": [
    "# Дисперсия\n",
    "\n",
    "fig, (ax1, ax2, ax3, ax4) = plt.subplots(1, 4, sharex='all', sharey='all', constrained_layout=True, figsize=(8, 4))\n",
    "\n",
    "ax1.hist(tweets_slice_df['variation'], bins=500)\n",
    "# ax1.set_yscale('log')\n",
    "ymin, ymax = ax1.get_ylim()\n",
    "tweets_var_median = tweets_slice_df['variation'].median()\n",
    "ax1.vlines(x = tweets_var_median, ymin=ymin, ymax=ymax, color='black', lw=0.5)\n",
    "ax1.text(2.2, 1000, str(round(tweets_var_median, 3)), color='black', rotation=90)\n",
    "ax1.set_title('Датасет твитов')\n",
    "\n",
    "ax2.hist(news_sents_slice_df['variation'], bins=500)\n",
    "# ax2.set_yscale('log')\n",
    "ymin, ymax = ax2.get_ylim()\n",
    "news_sents_var_median = news_sents_slice_df['variation'].median()\n",
    "ax2.vlines(x = news_sents_var_median, ymin=ymin, ymax=ymax, color='black', lw=0.5)\n",
    "ax2.text(2.2, 1000, str(round(news_sents_var_median, 3)), color='black', rotation=90)\n",
    "ax2.set_title('Датасет предложений\\nновостей')\n",
    "\n",
    "ax3.hist(jokes_slice_df['variation'], bins=500)\n",
    "# ax3.set_yscale('log')\n",
    "ymin, ymax = ax3.get_ylim()\n",
    "jokes_var_median = jokes_slice_df['variation'].median()\n",
    "ax3.vlines(x = jokes_var_median, ymin=ymin, ymax=ymax, color='black', lw=0.5)\n",
    "ax3.text(2.2, 1000, str(round(jokes_var_median, 3)), color='black', rotation=90)\n",
    "ax3.set_title('Датасет шуток')\n",
    "\n",
    "ax4.hist(news_paragraphs_slice_df['variation'], bins=500)\n",
    "# ax4.set_yscale('log')\n",
    "ymin, ymax = ax4.get_ylim()\n",
    "news_paragraphs_var_median = news_paragraphs_slice_df['variation'].median()\n",
    "ax4.vlines(x = news_paragraphs_var_median, ymin=ymin, ymax=ymax, color='black', lw=0.5)\n",
    "ax4.text(2.2, 1000, str(round(news_paragraphs_var_median, 3)), color='black', rotation=90)\n",
    "ax4.set_title('Датасет абзацев\\nновостей')\n",
    "\n",
    "fig.supxlabel('Дисперсия на Евклидовых расстояниях между соседними словами')\n",
    "fig.supylabel('Количество текстов')\n",
    "\n",
    "plt.show()"
   ]
  },
  {
   "cell_type": "code",
   "execution_count": 107,
   "metadata": {},
   "outputs": [
    {
     "name": "stdout",
     "output_type": "stream",
     "text": [
      "Тест Колмогорова-Смирнова на нормальность распределения. Отвергаемая нулевая гипотеза: что данные соответствуют нормальному распределению.\n",
      "Дисперсия шуток, p-value=0.0\n",
      "Дисперсия предложений новостей, p-value=0.0\n",
      "Дисперсия абзацев новостей, p-value=0.0\n",
      "\n",
      "Непараметрический критерий Вилкоксона\n",
      "- шутки vs. предложения новостей, p-value=1.60474086816886e-162\n",
      "- шутки vs. абзацы новостей, p-value=0.0\n",
      "- предложения новостей vs. абзацы новостей, p-value=0.0\n"
     ]
    }
   ],
   "source": [
    "# Дисперсия\n",
    "\n",
    "jokes_var = jokes_slice_df.variation.values\n",
    "news_sents_var = news_sents_slice_df.variation.values\n",
    "news_paragraphs_var = news_paragraphs_slice_df.variation.values\n",
    "\n",
    "print(\"Тест Колмогорова-Смирнова на нормальность распределения. Отвергаемая нулевая гипотеза: что данные соответствуют нормальному распределению.\")\n",
    "print(f\"Дисперсия шуток, p-value={stats.kstest(jokes_var, 'norm')[1]}\")\n",
    "print(f\"Дисперсия предложений новостей, p-value={stats.kstest(news_sents_var, 'norm')[1]}\")\n",
    "print(f\"Дисперсия абзацев новостей, p-value={stats.kstest(news_paragraphs_var, 'norm')[1]}\")\n",
    "\n",
    "print(\"\\nНепараметрический критерий Вилкоксона\")\n",
    "print(f\"- шутки vs. предложения новостей, p-value={wilcoxon(jokes_var, news_sents_var)[1]}\")\n",
    "print(f\"- шутки vs. абзацы новостей, p-value={wilcoxon(jokes_var, news_paragraphs_var)[1]}\")\n",
    "print(f\"- предложения новостей vs. абзацы новостей, p-value={wilcoxon(news_sents_var, news_paragraphs_var)[1]}\")"
   ]
  },
  {
   "cell_type": "code",
   "execution_count": 108,
   "metadata": {},
   "outputs": [
    {
     "name": "stderr",
     "output_type": "stream",
     "text": [
      "100%|██████████| 10000/10000 [00:59<00:00, 167.20it/s]"
     ]
    },
    {
     "name": "stdout",
     "output_type": "stream",
     "text": [
      "95% confidence interval: (1.21307, 1.21798)\n"
     ]
    },
    {
     "name": "stderr",
     "output_type": "stream",
     "text": [
      "\n"
     ]
    }
   ],
   "source": [
    "jokes_bootstrap_var_median = bootstrap(jokes_var, stat_function=np.median)\n",
    "confint_lower, confint_upper = np.percentile(jokes_bootstrap_var_median, [2.5, 97.5])\n",
    "print(f\"95% confidence interval: ({confint_lower:.5f}, {confint_upper:.5f})\")"
   ]
  },
  {
   "cell_type": "code",
   "execution_count": 109,
   "metadata": {},
   "outputs": [
    {
     "name": "stderr",
     "output_type": "stream",
     "text": [
      "100%|██████████| 10000/10000 [00:59<00:00, 168.32it/s]\n"
     ]
    },
    {
     "name": "stdout",
     "output_type": "stream",
     "text": [
      "95% confidence interval: (1.20524, 1.21157)\n"
     ]
    }
   ],
   "source": [
    "news_sents_bootstrap_var_median = bootstrap(news_sents_var, stat_function=np.median)\n",
    "confint_lower, confint_upper = np.percentile(news_sents_bootstrap_var_median, [2.5, 97.5])\n",
    "print(f\"95% confidence interval: ({confint_lower:.5f}, {confint_upper:.5f})\")"
   ]
  },
  {
   "cell_type": "code",
   "execution_count": 110,
   "metadata": {},
   "outputs": [
    {
     "name": "stderr",
     "output_type": "stream",
     "text": [
      "100%|██████████| 10000/10000 [01:00<00:00, 164.21it/s]"
     ]
    },
    {
     "name": "stdout",
     "output_type": "stream",
     "text": [
      "95% confidence interval: (1.34364, 1.34747)\n"
     ]
    },
    {
     "name": "stderr",
     "output_type": "stream",
     "text": [
      "\n"
     ]
    }
   ],
   "source": [
    "news_paragraphs_bootstrap_var_median = bootstrap(news_paragraphs_var, stat_function=np.median)\n",
    "confint_lower, confint_upper = np.percentile(news_paragraphs_bootstrap_var_median, [2.5, 97.5])\n",
    "print(f\"95% confidence interval: ({confint_lower:.5f}, {confint_upper:.5f})\")"
   ]
  },
  {
   "cell_type": "code",
   "execution_count": 114,
   "metadata": {},
   "outputs": [
    {
     "data": {
      "image/png": "[encoded data removed]",
      "text/plain": [
       "<Figure size 640x480 with 1 Axes>"
      ]
     },
     "metadata": {},
     "output_type": "display_data"
    }
   ],
   "source": [
    "plt.hist(news_sents_bootstrap_var_median, label='датасет предложений новостей', bins=60, color='blue')\n",
    "plt.hist(jokes_bootstrap_var_median, label='датасет шуток', bins=60, color='green')\n",
    "plt.hist(news_paragraphs_bootstrap_var_median, label='датасет абзацев новостей', bins=60, color='brown')\n",
    "plt.legend()\n",
    "\n",
    "plt.title('Распределение медиан дисперсий расстояний между соседними словами в текстах датасетов, полученных с помощью бутстрэппинга')\n",
    "plt.xlabel('Медианы дисперсий')\n",
    "plt.ylabel('Частота')\n",
    "\n",
    "plt.show()"
   ]
  },
  {
   "cell_type": "markdown",
   "metadata": {},
   "source": [
    "## Максимум расстояний абзацев новостей, твитов и анекдотов на основе векторов fasttext"
   ]
  },
  {
   "cell_type": "code",
   "execution_count": 115,
   "metadata": {},
   "outputs": [
    {
     "data": {
      "image/png": "[encoded data removed]",
      "text/plain": [
       "<Figure size 800x400 with 4 Axes>"
      ]
     },
     "metadata": {},
     "output_type": "display_data"
    }
   ],
   "source": [
    "# Максимум\n",
    "\n",
    "fig, (ax1, ax2, ax3, ax4) = plt.subplots(1, 4, sharex='all', sharey='all', constrained_layout=True, figsize=(8, 4))\n",
    "\n",
    "ax1.hist(news_sents_slice_df['max_dist'], bins=50)\n",
    "ymin, ymax = ax1.get_ylim()\n",
    "news_sents_max_dist_median = news_sents_slice_df['max_dist'].median()\n",
    "ax1.vlines(x = news_sents_max_dist_median, ymin=ymin, ymax=ymax, color='black', lw=0.5)\n",
    "ax1.text(1.8, 4000, str(round(news_sents_max_dist_median, 3)), color='black', rotation=90)\n",
    "ax1.set_title('Датасет предложений\\nновостей')\n",
    "\n",
    "ax2.hist(jokes_slice_df['max_dist'], bins=50)\n",
    "ymin, ymax = ax2.get_ylim()\n",
    "jokes_max_dist_median = jokes_slice_df['max_dist'].median()\n",
    "ax2.vlines(x = jokes_max_dist_median, ymin=ymin, ymax=ymax, color='black', lw=0.5)\n",
    "ax2.text(2.0, 4000, str(round(jokes_max_dist_median, 3)), color='black', rotation=90)\n",
    "ax2.set_title('Датасет шуток')\n",
    "\n",
    "ax3.hist(news_paragraphs_slice_df['max_dist'], bins=50)\n",
    "ymin, ymax = ax3.get_ylim()\n",
    "news_paragraphs_max_dist_median = news_paragraphs_slice_df['max_dist'].median()\n",
    "ax3.vlines(x = news_paragraphs_max_dist_median, ymin=ymin, ymax=ymax, color='black', lw=0.5)\n",
    "ax3.text(1.8, 4000, str(round(news_paragraphs_max_dist_median, 3)), color='black', rotation=90)\n",
    "ax3.set_title('Датасет абзацев\\nновостей')\n",
    "\n",
    "ax4.hist(tweets_slice_df['max_dist'], bins=50)\n",
    "ymin, ymax = ax4.get_ylim()\n",
    "tweets_max_dist_median = tweets_slice_df['max_dist'].median()\n",
    "ax4.vlines(x = tweets_max_dist_median, ymin=ymin, ymax=ymax, color='black', lw=0.5)\n",
    "ax4.text(2.2, 4000, str(round(tweets_max_dist_median, 3)), color='black', rotation=90)\n",
    "ax4.set_title('Датасет твитов')\n",
    "\n",
    "fig.supxlabel('Максимум из Евклидовых расстояний между соседними словами')\n",
    "fig.supylabel('Количество текстов')\n",
    "\n",
    "plt.show()"
   ]
  },
  {
   "cell_type": "code",
   "execution_count": 65,
   "metadata": {},
   "outputs": [
    {
     "name": "stdout",
     "output_type": "stream",
     "text": [
      "Тест Колмогорова-Смирнова на нормальность распределения. Отвергаемая нулевая гипотеза: что данные соответствуют нормальному распределению.\n",
      "Максимум из Евклидовых расстояний шуток, p-value=0.0\n",
      "Максимум из Евклидовых расстояний предложений новостей, p-value=0.0\n",
      "Максимум из Евклидовых расстояний абзацев новостей, p-value=0.0\n",
      "\n",
      "Непараметрический критерий Вилкоксона\n",
      "- шутки vs. предложения новостей, p-value=0.0\n",
      "- шутки vs. абзацы новостей, p-value=5.76395726719234e-122\n",
      "- предложения новостей vs. абзацы новостей, p-value=0.0\n"
     ]
    }
   ],
   "source": [
    "# Максимум\n",
    "\n",
    "jokes_max_dist = jokes_slice_df.max_dist.values\n",
    "news_sents_max_dist = news_sents_slice_df.max_dist.values\n",
    "news_paragraphs_max_dist = news_paragraphs_slice_df.max_dist.values\n",
    "\n",
    "print(\"Тест Колмогорова-Смирнова на нормальность распределения. Отвергаемая нулевая гипотеза: что данные соответствуют нормальному распределению.\")\n",
    "print(f\"Максимум из Евклидовых расстояний шуток, p-value={stats.kstest(jokes_max_dist, 'norm')[1]}\")\n",
    "print(f\"Максимум из Евклидовых расстояний предложений новостей, p-value={stats.kstest(news_sents_max_dist, 'norm')[1]}\")\n",
    "print(f\"Максимум из Евклидовых расстояний абзацев новостей, p-value={stats.kstest(news_paragraphs_max_dist, 'norm')[1]}\")\n",
    "\n",
    "print(\"\\nНепараметрический критерий Вилкоксона\")\n",
    "print(f\"- шутки vs. предложения новостей, p-value={wilcoxon(jokes_max_dist, news_sents_max_dist)[1]}\")\n",
    "print(f\"- шутки vs. абзацы новостей, p-value={wilcoxon(jokes_max_dist, news_paragraphs_max_dist)[1]}\")\n",
    "print(f\"- предложения новостей vs. абзацы новостей, p-value={wilcoxon(news_sents_max_dist, news_paragraphs_max_dist)[1]}\")"
   ]
  },
  {
   "cell_type": "code",
   "execution_count": 67,
   "metadata": {},
   "outputs": [
    {
     "name": "stderr",
     "output_type": "stream",
     "text": [
      "100%|██████████| 10000/10000 [02:05<00:00, 79.75it/s]"
     ]
    },
    {
     "name": "stdout",
     "output_type": "stream",
     "text": [
      "95% confidence interval: (4.06993, 4.06993)\n"
     ]
    },
    {
     "name": "stderr",
     "output_type": "stream",
     "text": [
      "\n"
     ]
    }
   ],
   "source": [
    "jokes_bootstrap_max_dist_mean = bootstrap(jokes_max_dist, stat_function=np.median)\n",
    "confint_lower, confint_upper = np.percentile(jokes_bootstrap_max_dist_mean, [2.5, 97.5])\n",
    "print(f\"95% confidence interval: ({confint_lower:.5f}, {confint_upper:.5f})\")"
   ]
  },
  {
   "cell_type": "code",
   "execution_count": 66,
   "metadata": {},
   "outputs": [
    {
     "name": "stderr",
     "output_type": "stream",
     "text": [
      "100%|██████████| 10000/10000 [02:06<00:00, 79.15it/s]"
     ]
    },
    {
     "name": "stdout",
     "output_type": "stream",
     "text": [
      "95% confidence interval: (3.85601, 3.86090)\n"
     ]
    },
    {
     "name": "stderr",
     "output_type": "stream",
     "text": [
      "\n"
     ]
    }
   ],
   "source": [
    "news_sents_bootstrap_max_dist_mean = bootstrap(news_sents_max_dist, stat_function=np.median)\n",
    "confint_lower, confint_upper = np.percentile(news_sents_bootstrap_max_dist_mean, [2.5, 97.5])\n",
    "print(f\"95% confidence interval: ({confint_lower:.5f}, {confint_upper:.5f})\")"
   ]
  },
  {
   "cell_type": "code",
   "execution_count": 68,
   "metadata": {},
   "outputs": [
    {
     "name": "stderr",
     "output_type": "stream",
     "text": [
      "100%|██████████| 10000/10000 [02:04<00:00, 80.18it/s]\n"
     ]
    },
    {
     "name": "stdout",
     "output_type": "stream",
     "text": [
      "95% confidence interval: (4.11792, 4.12268)\n"
     ]
    }
   ],
   "source": [
    "news_paragraphs_bootstrap_max_dist_mean = bootstrap(news_paragraphs_max_dist, stat_function=np.median)\n",
    "confint_lower, confint_upper = np.percentile(news_paragraphs_bootstrap_max_dist_mean, [2.5, 97.5])\n",
    "print(f\"95% confidence interval: ({confint_lower:.5f}, {confint_upper:.5f})\")"
   ]
  },
  {
   "cell_type": "code",
   "execution_count": 118,
   "metadata": {},
   "outputs": [
    {
     "data": {
      "image/png": "[encoded data removed]",
      "text/plain": [
       "<Figure size 640x480 with 1 Axes>"
      ]
     },
     "metadata": {},
     "output_type": "display_data"
    }
   ],
   "source": [
    "plt.hist(jokes_bootstrap_max_dist_mean, label='датасет шуток', bins=100, color='green')\n",
    "plt.hist(news_paragraphs_bootstrap_max_dist_mean, label='датасет абзацев новостей', bins=100, color='brown')\n",
    "plt.hist(news_sents_bootstrap_max_dist_mean, label='датасет предложений новостей', bins=100, color='blue')\n",
    "plt.legend()\n",
    "plt.yscale('log')\n",
    "\n",
    "plt.title('Распределение медиан максимума Евклидовых расстояний между соседними словами в текстах датасетов, полученных с помощью бутстрэппинга')\n",
    "plt.xlabel('Медианы максимума Евклидовых расстояний')\n",
    "plt.ylabel('Частота (логарифмическая шкала)')\n",
    "\n",
    "plt.show()"
   ]
  },
  {
   "cell_type": "markdown",
   "metadata": {
    "scrolled": true
   },
   "source": [
    "## Обратный эксперимент на перемешанных датасетах шуток и не шуток на основе векторов fasttext"
   ]
  },
  {
   "cell_type": "markdown",
   "metadata": {},
   "source": [
    "### Перемешиваем в пропорции 1\\:1:1 шутки:абзацы новостей:предложения новостей"
   ]
  },
  {
   "cell_type": "code",
   "execution_count": 86,
   "metadata": {},
   "outputs": [],
   "source": [
    "shuffle_slice_df = pd.concat([jokes_slice_df, news_paragraphs_slice_df, news_sents_slice_df], axis=0)\n",
    "shuffle_slice_df = shuffle_slice_df.sample(frac=1).reset_index(drop=True)\n",
    "shuffle_slice_df_1 = shuffle_slice_df[:225522]\n",
    "shuffle_slice_df_2 = shuffle_slice_df[225522:]"
   ]
  },
  {
   "cell_type": "code",
   "execution_count": 116,
   "metadata": {},
   "outputs": [
    {
     "data": {
      "image/png": "[encoded data removed]",
      "text/plain": [
       "<Figure size 500x400 with 2 Axes>"
      ]
     },
     "metadata": {},
     "output_type": "display_data"
    }
   ],
   "source": [
    "# Дисперсия\n",
    "\n",
    "fig, (ax1, ax2) = plt.subplots(1, 2, sharex='all', sharey='all', constrained_layout=True, figsize=(5, 4))\n",
    "\n",
    "ax1.hist(shuffle_slice_df_1['variation'], bins=1000)\n",
    "ymin, ymax = ax1.get_ylim()\n",
    "shuffle1_var_median = shuffle_slice_df_1['variation'].median()\n",
    "ax1.vlines(x = shuffle1_var_median, ymin=ymin, ymax=ymax, color='black', lw=0.5)\n",
    "ax1.text(2.4, 2000, str(round(shuffle1_var_median, 3)), color='black', rotation=90)\n",
    "ax1.set_title('Перемешанный\\nдатасет 1')\n",
    "\n",
    "ax2.hist(shuffle_slice_df_2['variation'], bins=1000)\n",
    "ymin, ymax = ax2.get_ylim()\n",
    "shuffle2_var_median = shuffle_slice_df_2['variation'].median()\n",
    "ax2.vlines(x = shuffle2_var_median, ymin=ymin, ymax=ymax, color='black', lw=0.5)\n",
    "ax2.text(2.4, 2000, str(round(shuffle2_var_median, 3)), color='black', rotation=90)\n",
    "ax2.set_title('Перемешанный\\nдатасет 2')\n",
    "\n",
    "fig.supxlabel('Дисперсия на Евклидовых расстояниях между соседними словами')\n",
    "fig.supylabel('Количество текстов')\n",
    "\n",
    "plt.show()"
   ]
  },
  {
   "cell_type": "code",
   "execution_count": 90,
   "metadata": {},
   "outputs": [
    {
     "name": "stdout",
     "output_type": "stream",
     "text": [
      "Тест Колмогорова-Смирнова на нормальность распределения. Отвергаемая нулевая гипотеза: что данные соответствуют нормальному распределению.\n",
      "Дисперсия перемешанного корпуса 1, p-value=0.0\n",
      "Дисперсия перемешанного корпуса 1, p-value=0.0\n",
      "\n",
      "Непараметрический критерий Вилкоксона\n",
      "- перемешанный корпус 1 vs. перемешанный корпус 2, p-value=0.6979866959876984\n"
     ]
    }
   ],
   "source": [
    "# Дисперсия\n",
    "\n",
    "shuffle2_var = shuffle_slice_df_2.variation.values\n",
    "shuffle1_var = shuffle_slice_df_1.variation.values\n",
    "\n",
    "print(\"Тест Колмогорова-Смирнова на нормальность распределения. Отвергаемая нулевая гипотеза: что данные соответствуют нормальному распределению.\")\n",
    "print(f\"Дисперсия перемешанного датасета 1, p-value={stats.kstest(shuffle1_var, 'norm')[1]}\")\n",
    "print(f\"Дисперсия перемешанного датасета 1, p-value={stats.kstest(shuffle2_var, 'norm')[1]}\")\n",
    "\n",
    "print(\"\\nНепараметрический критерий Вилкоксона\")\n",
    "print(f\"- перемешанный датасет 1 vs. перемешанный датасет 2, p-value={wilcoxon(shuffle1_var, shuffle2_var)[1]}\")"
   ]
  },
  {
   "cell_type": "code",
   "execution_count": 117,
   "metadata": {},
   "outputs": [
    {
     "data": {
      "image/png": "[encoded data removed]",
      "text/plain": [
       "<Figure size 500x400 with 2 Axes>"
      ]
     },
     "metadata": {},
     "output_type": "display_data"
    }
   ],
   "source": [
    "# Максимум\n",
    "\n",
    "fig, (ax1, ax2) = plt.subplots(1, 2, sharex='all', sharey='all', constrained_layout=True, figsize=(5, 4))\n",
    "\n",
    "ax1.hist(shuffle_slice_df_1['max_dist'], bins=200)\n",
    "ymin, ymax = ax1.get_ylim()\n",
    "shuffle1_max_dist_median = shuffle_slice_df_1['max_dist'].median()\n",
    "ax1.vlines(x = shuffle1_max_dist_median, ymin=ymin, ymax=ymax, color='black', lw=0.5)\n",
    "ax1.text(2.5, 4000, str(round(shuffle1_max_dist_median, 3)), color='black', rotation=90)\n",
    "ax1.set_title('Перемешанный\\nдатасет 1')\n",
    "\n",
    "ax2.hist(shuffle_slice_df_2['max_dist'], bins=200)\n",
    "ymin, ymax = ax2.get_ylim()\n",
    "shuffle2_max_dist_median = shuffle_slice_df_2['max_dist'].median()\n",
    "ax2.vlines(x = shuffle2_max_dist_median, ymin=ymin, ymax=ymax, color='black', lw=0.5)\n",
    "ax2.text(2.5, 4000, str(round(shuffle2_max_dist_median, 3)), color='black', rotation=90)\n",
    "ax2.set_title('Перемешанный\\nдатасет 2')\n",
    "\n",
    "fig.supxlabel('Максимум из Евклидовых расстояний между соседними словами')\n",
    "fig.supylabel('Количество текстов')\n",
    "\n",
    "plt.show()"
   ]
  },
  {
   "cell_type": "code",
   "execution_count": 95,
   "metadata": {},
   "outputs": [
    {
     "name": "stdout",
     "output_type": "stream",
     "text": [
      "Тест Колмогорова-Смирнова на нормальность распределения. Отвергаемая нулевая гипотеза: что данные соответствуют нормальному распределению.\n",
      "Максимум из Евклидовых расстояний перемешанного корпуса 1, p-value=0.0\n",
      "Максимум из Евклидовых расстояний перемешанного корпуса 1, p-value=0.0\n",
      "\n",
      "Непараметрический критерий Вилкоксона\n",
      "- перемешанный корпус 1 vs. перемешанный корпус 2, p-value=0.8098181502293045\n"
     ]
    }
   ],
   "source": [
    "# Максимум\n",
    "\n",
    "shuffle1_max_dist = shuffle_slice_df_1.max_dist.values\n",
    "shuffle2_max_dist = shuffle_slice_df_2.max_dist.values\n",
    "\n",
    "print(\"Тест Колмогорова-Смирнова на нормальность распределения. Отвергаемая нулевая гипотеза: что данные соответствуют нормальному распределению.\")\n",
    "print(f\"Максимум из Евклидовых расстояний перемешанного датасета 1, p-value={stats.kstest(shuffle1_max_dist, 'norm')[1]}\")\n",
    "print(f\"Максимум из Евклидовых расстояний перемешанного датасета 1, p-value={stats.kstest(shuffle2_max_dist, 'norm')[1]}\")\n",
    "\n",
    "print(\"\\nНепараметрический критерий Вилкоксона\")\n",
    "print(f\"- перемешанный датасет 1 vs. перемешанный датасет 2, p-value={wilcoxon(shuffle1_max_dist, shuffle2_max_dist)[1]}\")"
   ]
  }
 ],
 "metadata": {
  "colab": {
   "provenance": []
  },
  "kernelspec": {
   "display_name": "Python 3 (ipykernel)",
   "language": "python",
   "name": "python3"
  },
  "language_info": {
   "codemirror_mode": {
    "name": "ipython",
    "version": 3
   },
   "file_extension": ".py",
   "mimetype": "text/x-python",
   "name": "python",
   "nbconvert_exporter": "python",
   "pygments_lexer": "ipython3",
   "version": "3.11.7"
  },
  "widgets": {
   "application/vnd.jupyter.widget-state+json": {
    "049537086a864d609cde3d2ad5beb645": {
     "model_module": "@jupyter-widgets/controls",
     "model_module_version": "1.5.0",
     "model_name": "HTMLModel",
     "state": {
      "_dom_classes": [],
      "_model_module": "@jupyter-widgets/controls",
      "_model_module_version": "1.5.0",
      "_model_name": "HTMLModel",
      "_view_count": null,
      "_view_module": "@jupyter-widgets/controls",
      "_view_module_version": "1.5.0",
      "_view_name": "HTMLView",
      "description": "",
      "description_tooltip": null,
      "layout": "IPY_MODEL_41b8176a640148da8f39625ce035185f",
      "placeholder": "​",
      "style": "IPY_MODEL_dd313f38508340ce9222b5207559cab6",
      "value": "README.md: 100%"
     }
    },
    "115fe11bf9fb4f3a8cc5a2483a68af18": {
     "model_module": "@jupyter-widgets/controls",
     "model_module_version": "1.5.0",
     "model_name": "HBoxModel",
     "state": {
      "_dom_classes": [],
      "_model_module": "@jupyter-widgets/controls",
      "_model_module_version": "1.5.0",
      "_model_name": "HBoxModel",
      "_view_count": null,
      "_view_module": "@jupyter-widgets/controls",
      "_view_module_version": "1.5.0",
      "_view_name": "HBoxView",
      "box_style": "",
      "children": [
       "IPY_MODEL_ad77d98007f843afaf704fb745c3ec48",
       "IPY_MODEL_eae232eeb2c240a2a1ccd8faa98561a5",
       "IPY_MODEL_1a73ce3fefc74f9eb889d4ec450a9691"
      ],
      "layout": "IPY_MODEL_ddd7c0efc3424788a9b8bfe1ccb72a1e"
     }
    },
    "17be763b0a9045aab225eb7512580f34": {
     "model_module": "@jupyter-widgets/controls",
     "model_module_version": "1.5.0",
     "model_name": "HTMLModel",
     "state": {
      "_dom_classes": [],
      "_model_module": "@jupyter-widgets/controls",
      "_model_module_version": "1.5.0",
      "_model_name": "HTMLModel",
      "_view_count": null,
      "_view_module": "@jupyter-widgets/controls",
      "_view_module_version": "1.5.0",
      "_view_name": "HTMLView",
      "description": "",
      "description_tooltip": null,
      "layout": "IPY_MODEL_f4fbb99c02004716b8c285d1285d5fad",
      "placeholder": "​",
      "style": "IPY_MODEL_c4f7d21134df4315850b837173b9c781",
      "value": " 99.0/99.0 [00:00&lt;00:00, 1.87kB/s]"
     }
    },
    "1a73ce3fefc74f9eb889d4ec450a9691": {
     "model_module": "@jupyter-widgets/controls",
     "model_module_version": "1.5.0",
     "model_name": "HTMLModel",
     "state": {
      "_dom_classes": [],
      "_model_module": "@jupyter-widgets/controls",
      "_model_module_version": "1.5.0",
      "_model_name": "HTMLModel",
      "_view_count": null,
      "_view_module": "@jupyter-widgets/controls",
      "_view_module_version": "1.5.0",
      "_view_name": "HTMLView",
      "description": "",
      "description_tooltip": null,
      "layout": "IPY_MODEL_d0ad1bc2870244e89fef6a33dcbb5c59",
      "placeholder": "​",
      "style": "IPY_MODEL_3ace2f74f6514d98a62638d6e41fc00d",
      "value": " 150553/150553 [00:04&lt;00:00, 34288.07 examples/s]"
     }
    },
    "1d20aaa92f6545dbb0057101cecd2c54": {
     "model_module": "@jupyter-widgets/controls",
     "model_module_version": "1.5.0",
     "model_name": "FloatProgressModel",
     "state": {
      "_dom_classes": [],
      "_model_module": "@jupyter-widgets/controls",
      "_model_module_version": "1.5.0",
      "_model_name": "FloatProgressModel",
      "_view_count": null,
      "_view_module": "@jupyter-widgets/controls",
      "_view_module_version": "1.5.0",
      "_view_name": "ProgressView",
      "bar_style": "success",
      "description": "",
      "description_tooltip": null,
      "layout": "IPY_MODEL_5702dd24480540e59316742a415e93d6",
      "max": 41714945,
      "min": 0,
      "orientation": "horizontal",
      "style": "IPY_MODEL_b9a7d3b7f1624925a4b26c8f846173fd",
      "value": 41714945
     }
    },
    "3ace2f74f6514d98a62638d6e41fc00d": {
     "model_module": "@jupyter-widgets/controls",
     "model_module_version": "1.5.0",
     "model_name": "DescriptionStyleModel",
     "state": {
      "_model_module": "@jupyter-widgets/controls",
      "_model_module_version": "1.5.0",
      "_model_name": "DescriptionStyleModel",
      "_view_count": null,
      "_view_module": "@jupyter-widgets/base",
      "_view_module_version": "1.2.0",
      "_view_name": "StyleView",
      "description_width": ""
     }
    },
    "41b8176a640148da8f39625ce035185f": {
     "model_module": "@jupyter-widgets/base",
     "model_module_version": "1.2.0",
     "model_name": "LayoutModel",
     "state": {
      "_model_module": "@jupyter-widgets/base",
      "_model_module_version": "1.2.0",
      "_model_name": "LayoutModel",
      "_view_count": null,
      "_view_module": "@jupyter-widgets/base",
      "_view_module_version": "1.2.0",
      "_view_name": "LayoutView",
      "align_content": null,
      "align_items": null,
      "align_self": null,
      "border": null,
      "bottom": null,
      "display": null,
      "flex": null,
      "flex_flow": null,
      "grid_area": null,
      "grid_auto_columns": null,
      "grid_auto_flow": null,
      "grid_auto_rows": null,
      "grid_column": null,
      "grid_gap": null,
      "grid_row": null,
      "grid_template_areas": null,
      "grid_template_columns": null,
      "grid_template_rows": null,
      "height": null,
      "justify_content": null,
      "justify_items": null,
      "left": null,
      "margin": null,
      "max_height": null,
      "max_width": null,
      "min_height": null,
      "min_width": null,
      "object_fit": null,
      "object_position": null,
      "order": null,
      "overflow": null,
      "overflow_x": null,
      "overflow_y": null,
      "padding": null,
      "right": null,
      "top": null,
      "visibility": null,
      "width": null
     }
    },
    "4842c631e85c493eb91c3e03c45ff664": {
     "model_module": "@jupyter-widgets/controls",
     "model_module_version": "1.5.0",
     "model_name": "DescriptionStyleModel",
     "state": {
      "_model_module": "@jupyter-widgets/controls",
      "_model_module_version": "1.5.0",
      "_model_name": "DescriptionStyleModel",
      "_view_count": null,
      "_view_module": "@jupyter-widgets/base",
      "_view_module_version": "1.2.0",
      "_view_name": "StyleView",
      "description_width": ""
     }
    },
    "492ed4f9af9c462bba92bd32aea2e09f": {
     "model_module": "@jupyter-widgets/base",
     "model_module_version": "1.2.0",
     "model_name": "LayoutModel",
     "state": {
      "_model_module": "@jupyter-widgets/base",
      "_model_module_version": "1.2.0",
      "_model_name": "LayoutModel",
      "_view_count": null,
      "_view_module": "@jupyter-widgets/base",
      "_view_module_version": "1.2.0",
      "_view_name": "LayoutView",
      "align_content": null,
      "align_items": null,
      "align_self": null,
      "border": null,
      "bottom": null,
      "display": null,
      "flex": null,
      "flex_flow": null,
      "grid_area": null,
      "grid_auto_columns": null,
      "grid_auto_flow": null,
      "grid_auto_rows": null,
      "grid_column": null,
      "grid_gap": null,
      "grid_row": null,
      "grid_template_areas": null,
      "grid_template_columns": null,
      "grid_template_rows": null,
      "height": null,
      "justify_content": null,
      "justify_items": null,
      "left": null,
      "margin": null,
      "max_height": null,
      "max_width": null,
      "min_height": null,
      "min_width": null,
      "object_fit": null,
      "object_position": null,
      "order": null,
      "overflow": null,
      "overflow_x": null,
      "overflow_y": null,
      "padding": null,
      "right": null,
      "top": null,
      "visibility": null,
      "width": null
     }
    },
    "5702dd24480540e59316742a415e93d6": {
     "model_module": "@jupyter-widgets/base",
     "model_module_version": "1.2.0",
     "model_name": "LayoutModel",
     "state": {
      "_model_module": "@jupyter-widgets/base",
      "_model_module_version": "1.2.0",
      "_model_name": "LayoutModel",
      "_view_count": null,
      "_view_module": "@jupyter-widgets/base",
      "_view_module_version": "1.2.0",
      "_view_name": "LayoutView",
      "align_content": null,
      "align_items": null,
      "align_self": null,
      "border": null,
      "bottom": null,
      "display": null,
      "flex": null,
      "flex_flow": null,
      "grid_area": null,
      "grid_auto_columns": null,
      "grid_auto_flow": null,
      "grid_auto_rows": null,
      "grid_column": null,
      "grid_gap": null,
      "grid_row": null,
      "grid_template_areas": null,
      "grid_template_columns": null,
      "grid_template_rows": null,
      "height": null,
      "justify_content": null,
      "justify_items": null,
      "left": null,
      "margin": null,
      "max_height": null,
      "max_width": null,
      "min_height": null,
      "min_width": null,
      "object_fit": null,
      "object_position": null,
      "order": null,
      "overflow": null,
      "overflow_x": null,
      "overflow_y": null,
      "padding": null,
      "right": null,
      "top": null,
      "visibility": null,
      "width": null
     }
    },
    "5749611af2cf4ea4b819406ece6beae6": {
     "model_module": "@jupyter-widgets/base",
     "model_module_version": "1.2.0",
     "model_name": "LayoutModel",
     "state": {
      "_model_module": "@jupyter-widgets/base",
      "_model_module_version": "1.2.0",
      "_model_name": "LayoutModel",
      "_view_count": null,
      "_view_module": "@jupyter-widgets/base",
      "_view_module_version": "1.2.0",
      "_view_name": "LayoutView",
      "align_content": null,
      "align_items": null,
      "align_self": null,
      "border": null,
      "bottom": null,
      "display": null,
      "flex": null,
      "flex_flow": null,
      "grid_area": null,
      "grid_auto_columns": null,
      "grid_auto_flow": null,
      "grid_auto_rows": null,
      "grid_column": null,
      "grid_gap": null,
      "grid_row": null,
      "grid_template_areas": null,
      "grid_template_columns": null,
      "grid_template_rows": null,
      "height": null,
      "justify_content": null,
      "justify_items": null,
      "left": null,
      "margin": null,
      "max_height": null,
      "max_width": null,
      "min_height": null,
      "min_width": null,
      "object_fit": null,
      "object_position": null,
      "order": null,
      "overflow": null,
      "overflow_x": null,
      "overflow_y": null,
      "padding": null,
      "right": null,
      "top": null,
      "visibility": null,
      "width": null
     }
    },
    "689812eecbd248058bfa46ac78728a55": {
     "model_module": "@jupyter-widgets/controls",
     "model_module_version": "1.5.0",
     "model_name": "HTMLModel",
     "state": {
      "_dom_classes": [],
      "_model_module": "@jupyter-widgets/controls",
      "_model_module_version": "1.5.0",
      "_model_name": "HTMLModel",
      "_view_count": null,
      "_view_module": "@jupyter-widgets/controls",
      "_view_module_version": "1.5.0",
      "_view_name": "HTMLView",
      "description": "",
      "description_tooltip": null,
      "layout": "IPY_MODEL_c6ca108cfe314590946de5992954c71d",
      "placeholder": "​",
      "style": "IPY_MODEL_fac7b1f392eb41f4895d44e895526e17",
      "value": "dataset.txt: 100%"
     }
    },
    "83cfd80666484bafba505cd6b11f2432": {
     "model_module": "@jupyter-widgets/controls",
     "model_module_version": "1.5.0",
     "model_name": "DescriptionStyleModel",
     "state": {
      "_model_module": "@jupyter-widgets/controls",
      "_model_module_version": "1.5.0",
      "_model_name": "DescriptionStyleModel",
      "_view_count": null,
      "_view_module": "@jupyter-widgets/base",
      "_view_module_version": "1.2.0",
      "_view_name": "StyleView",
      "description_width": ""
     }
    },
    "9628d7224b67425dae170eb067e39069": {
     "model_module": "@jupyter-widgets/controls",
     "model_module_version": "1.5.0",
     "model_name": "HBoxModel",
     "state": {
      "_dom_classes": [],
      "_model_module": "@jupyter-widgets/controls",
      "_model_module_version": "1.5.0",
      "_model_name": "HBoxModel",
      "_view_count": null,
      "_view_module": "@jupyter-widgets/controls",
      "_view_module_version": "1.5.0",
      "_view_name": "HBoxView",
      "box_style": "",
      "children": [
       "IPY_MODEL_689812eecbd248058bfa46ac78728a55",
       "IPY_MODEL_1d20aaa92f6545dbb0057101cecd2c54",
       "IPY_MODEL_c3ae3ae6c5e14dccaed7a0d03dee8fa4"
      ],
      "layout": "IPY_MODEL_d9fdc19dbc0e4c9ab621fb18eabd628e"
     }
    },
    "ad77d98007f843afaf704fb745c3ec48": {
     "model_module": "@jupyter-widgets/controls",
     "model_module_version": "1.5.0",
     "model_name": "HTMLModel",
     "state": {
      "_dom_classes": [],
      "_model_module": "@jupyter-widgets/controls",
      "_model_module_version": "1.5.0",
      "_model_name": "HTMLModel",
      "_view_count": null,
      "_view_module": "@jupyter-widgets/controls",
      "_view_module_version": "1.5.0",
      "_view_name": "HTMLView",
      "description": "",
      "description_tooltip": null,
      "layout": "IPY_MODEL_b0c4c6177a844fc8b7f5dfd31f07935f",
      "placeholder": "​",
      "style": "IPY_MODEL_4842c631e85c493eb91c3e03c45ff664",
      "value": "Generating train split: 100%"
     }
    },
    "b0c4c6177a844fc8b7f5dfd31f07935f": {
     "model_module": "@jupyter-widgets/base",
     "model_module_version": "1.2.0",
     "model_name": "LayoutModel",
     "state": {
      "_model_module": "@jupyter-widgets/base",
      "_model_module_version": "1.2.0",
      "_model_name": "LayoutModel",
      "_view_count": null,
      "_view_module": "@jupyter-widgets/base",
      "_view_module_version": "1.2.0",
      "_view_name": "LayoutView",
      "align_content": null,
      "align_items": null,
      "align_self": null,
      "border": null,
      "bottom": null,
      "display": null,
      "flex": null,
      "flex_flow": null,
      "grid_area": null,
      "grid_auto_columns": null,
      "grid_auto_flow": null,
      "grid_auto_rows": null,
      "grid_column": null,
      "grid_gap": null,
      "grid_row": null,
      "grid_template_areas": null,
      "grid_template_columns": null,
      "grid_template_rows": null,
      "height": null,
      "justify_content": null,
      "justify_items": null,
      "left": null,
      "margin": null,
      "max_height": null,
      "max_width": null,
      "min_height": null,
      "min_width": null,
      "object_fit": null,
      "object_position": null,
      "order": null,
      "overflow": null,
      "overflow_x": null,
      "overflow_y": null,
      "padding": null,
      "right": null,
      "top": null,
      "visibility": null,
      "width": null
     }
    },
    "b9a7d3b7f1624925a4b26c8f846173fd": {
     "model_module": "@jupyter-widgets/controls",
     "model_module_version": "1.5.0",
     "model_name": "ProgressStyleModel",
     "state": {
      "_model_module": "@jupyter-widgets/controls",
      "_model_module_version": "1.5.0",
      "_model_name": "ProgressStyleModel",
      "_view_count": null,
      "_view_module": "@jupyter-widgets/base",
      "_view_module_version": "1.2.0",
      "_view_name": "StyleView",
      "bar_color": null,
      "description_width": ""
     }
    },
    "bcc3b0a78371432997e128e3df1668da": {
     "model_module": "@jupyter-widgets/controls",
     "model_module_version": "1.5.0",
     "model_name": "ProgressStyleModel",
     "state": {
      "_model_module": "@jupyter-widgets/controls",
      "_model_module_version": "1.5.0",
      "_model_name": "ProgressStyleModel",
      "_view_count": null,
      "_view_module": "@jupyter-widgets/base",
      "_view_module_version": "1.2.0",
      "_view_name": "StyleView",
      "bar_color": null,
      "description_width": ""
     }
    },
    "c3ae3ae6c5e14dccaed7a0d03dee8fa4": {
     "model_module": "@jupyter-widgets/controls",
     "model_module_version": "1.5.0",
     "model_name": "HTMLModel",
     "state": {
      "_dom_classes": [],
      "_model_module": "@jupyter-widgets/controls",
      "_model_module_version": "1.5.0",
      "_model_name": "HTMLModel",
      "_view_count": null,
      "_view_module": "@jupyter-widgets/controls",
      "_view_module_version": "1.5.0",
      "_view_name": "HTMLView",
      "description": "",
      "description_tooltip": null,
      "layout": "IPY_MODEL_c74d6da4ba054a2993c1734b0ae4dd88",
      "placeholder": "​",
      "style": "IPY_MODEL_83cfd80666484bafba505cd6b11f2432",
      "value": " 41.7M/41.7M [00:01&lt;00:00, 37.2MB/s]"
     }
    },
    "c4f7d21134df4315850b837173b9c781": {
     "model_module": "@jupyter-widgets/controls",
     "model_module_version": "1.5.0",
     "model_name": "DescriptionStyleModel",
     "state": {
      "_model_module": "@jupyter-widgets/controls",
      "_model_module_version": "1.5.0",
      "_model_name": "DescriptionStyleModel",
      "_view_count": null,
      "_view_module": "@jupyter-widgets/base",
      "_view_module_version": "1.2.0",
      "_view_name": "StyleView",
      "description_width": ""
     }
    },
    "c6ca108cfe314590946de5992954c71d": {
     "model_module": "@jupyter-widgets/base",
     "model_module_version": "1.2.0",
     "model_name": "LayoutModel",
     "state": {
      "_model_module": "@jupyter-widgets/base",
      "_model_module_version": "1.2.0",
      "_model_name": "LayoutModel",
      "_view_count": null,
      "_view_module": "@jupyter-widgets/base",
      "_view_module_version": "1.2.0",
      "_view_name": "LayoutView",
      "align_content": null,
      "align_items": null,
      "align_self": null,
      "border": null,
      "bottom": null,
      "display": null,
      "flex": null,
      "flex_flow": null,
      "grid_area": null,
      "grid_auto_columns": null,
      "grid_auto_flow": null,
      "grid_auto_rows": null,
      "grid_column": null,
      "grid_gap": null,
      "grid_row": null,
      "grid_template_areas": null,
      "grid_template_columns": null,
      "grid_template_rows": null,
      "height": null,
      "justify_content": null,
      "justify_items": null,
      "left": null,
      "margin": null,
      "max_height": null,
      "max_width": null,
      "min_height": null,
      "min_width": null,
      "object_fit": null,
      "object_position": null,
      "order": null,
      "overflow": null,
      "overflow_x": null,
      "overflow_y": null,
      "padding": null,
      "right": null,
      "top": null,
      "visibility": null,
      "width": null
     }
    },
    "c74d6da4ba054a2993c1734b0ae4dd88": {
     "model_module": "@jupyter-widgets/base",
     "model_module_version": "1.2.0",
     "model_name": "LayoutModel",
     "state": {
      "_model_module": "@jupyter-widgets/base",
      "_model_module_version": "1.2.0",
      "_model_name": "LayoutModel",
      "_view_count": null,
      "_view_module": "@jupyter-widgets/base",
      "_view_module_version": "1.2.0",
      "_view_name": "LayoutView",
      "align_content": null,
      "align_items": null,
      "align_self": null,
      "border": null,
      "bottom": null,
      "display": null,
      "flex": null,
      "flex_flow": null,
      "grid_area": null,
      "grid_auto_columns": null,
      "grid_auto_flow": null,
      "grid_auto_rows": null,
      "grid_column": null,
      "grid_gap": null,
      "grid_row": null,
      "grid_template_areas": null,
      "grid_template_columns": null,
      "grid_template_rows": null,
      "height": null,
      "justify_content": null,
      "justify_items": null,
      "left": null,
      "margin": null,
      "max_height": null,
      "max_width": null,
      "min_height": null,
      "min_width": null,
      "object_fit": null,
      "object_position": null,
      "order": null,
      "overflow": null,
      "overflow_x": null,
      "overflow_y": null,
      "padding": null,
      "right": null,
      "top": null,
      "visibility": null,
      "width": null
     }
    },
    "ce0ae0bf9d8a4956a1938e137b9ad8be": {
     "model_module": "@jupyter-widgets/controls",
     "model_module_version": "1.5.0",
     "model_name": "ProgressStyleModel",
     "state": {
      "_model_module": "@jupyter-widgets/controls",
      "_model_module_version": "1.5.0",
      "_model_name": "ProgressStyleModel",
      "_view_count": null,
      "_view_module": "@jupyter-widgets/base",
      "_view_module_version": "1.2.0",
      "_view_name": "StyleView",
      "bar_color": null,
      "description_width": ""
     }
    },
    "d0ad1bc2870244e89fef6a33dcbb5c59": {
     "model_module": "@jupyter-widgets/base",
     "model_module_version": "1.2.0",
     "model_name": "LayoutModel",
     "state": {
      "_model_module": "@jupyter-widgets/base",
      "_model_module_version": "1.2.0",
      "_model_name": "LayoutModel",
      "_view_count": null,
      "_view_module": "@jupyter-widgets/base",
      "_view_module_version": "1.2.0",
      "_view_name": "LayoutView",
      "align_content": null,
      "align_items": null,
      "align_self": null,
      "border": null,
      "bottom": null,
      "display": null,
      "flex": null,
      "flex_flow": null,
      "grid_area": null,
      "grid_auto_columns": null,
      "grid_auto_flow": null,
      "grid_auto_rows": null,
      "grid_column": null,
      "grid_gap": null,
      "grid_row": null,
      "grid_template_areas": null,
      "grid_template_columns": null,
      "grid_template_rows": null,
      "height": null,
      "justify_content": null,
      "justify_items": null,
      "left": null,
      "margin": null,
      "max_height": null,
      "max_width": null,
      "min_height": null,
      "min_width": null,
      "object_fit": null,
      "object_position": null,
      "order": null,
      "overflow": null,
      "overflow_x": null,
      "overflow_y": null,
      "padding": null,
      "right": null,
      "top": null,
      "visibility": null,
      "width": null
     }
    },
    "d1495c6729f14cf3a028513387146d10": {
     "model_module": "@jupyter-widgets/controls",
     "model_module_version": "1.5.0",
     "model_name": "FloatProgressModel",
     "state": {
      "_dom_classes": [],
      "_model_module": "@jupyter-widgets/controls",
      "_model_module_version": "1.5.0",
      "_model_name": "FloatProgressModel",
      "_view_count": null,
      "_view_module": "@jupyter-widgets/controls",
      "_view_module_version": "1.5.0",
      "_view_name": "ProgressView",
      "bar_style": "success",
      "description": "",
      "description_tooltip": null,
      "layout": "IPY_MODEL_492ed4f9af9c462bba92bd32aea2e09f",
      "max": 99,
      "min": 0,
      "orientation": "horizontal",
      "style": "IPY_MODEL_bcc3b0a78371432997e128e3df1668da",
      "value": 99
     }
    },
    "d9fdc19dbc0e4c9ab621fb18eabd628e": {
     "model_module": "@jupyter-widgets/base",
     "model_module_version": "1.2.0",
     "model_name": "LayoutModel",
     "state": {
      "_model_module": "@jupyter-widgets/base",
      "_model_module_version": "1.2.0",
      "_model_name": "LayoutModel",
      "_view_count": null,
      "_view_module": "@jupyter-widgets/base",
      "_view_module_version": "1.2.0",
      "_view_name": "LayoutView",
      "align_content": null,
      "align_items": null,
      "align_self": null,
      "border": null,
      "bottom": null,
      "display": null,
      "flex": null,
      "flex_flow": null,
      "grid_area": null,
      "grid_auto_columns": null,
      "grid_auto_flow": null,
      "grid_auto_rows": null,
      "grid_column": null,
      "grid_gap": null,
      "grid_row": null,
      "grid_template_areas": null,
      "grid_template_columns": null,
      "grid_template_rows": null,
      "height": null,
      "justify_content": null,
      "justify_items": null,
      "left": null,
      "margin": null,
      "max_height": null,
      "max_width": null,
      "min_height": null,
      "min_width": null,
      "object_fit": null,
      "object_position": null,
      "order": null,
      "overflow": null,
      "overflow_x": null,
      "overflow_y": null,
      "padding": null,
      "right": null,
      "top": null,
      "visibility": null,
      "width": null
     }
    },
    "dbfdbd468bd7490aa7e3db2ded281705": {
     "model_module": "@jupyter-widgets/base",
     "model_module_version": "1.2.0",
     "model_name": "LayoutModel",
     "state": {
      "_model_module": "@jupyter-widgets/base",
      "_model_module_version": "1.2.0",
      "_model_name": "LayoutModel",
      "_view_count": null,
      "_view_module": "@jupyter-widgets/base",
      "_view_module_version": "1.2.0",
      "_view_name": "LayoutView",
      "align_content": null,
      "align_items": null,
      "align_self": null,
      "border": null,
      "bottom": null,
      "display": null,
      "flex": null,
      "flex_flow": null,
      "grid_area": null,
      "grid_auto_columns": null,
      "grid_auto_flow": null,
      "grid_auto_rows": null,
      "grid_column": null,
      "grid_gap": null,
      "grid_row": null,
      "grid_template_areas": null,
      "grid_template_columns": null,
      "grid_template_rows": null,
      "height": null,
      "justify_content": null,
      "justify_items": null,
      "left": null,
      "margin": null,
      "max_height": null,
      "max_width": null,
      "min_height": null,
      "min_width": null,
      "object_fit": null,
      "object_position": null,
      "order": null,
      "overflow": null,
      "overflow_x": null,
      "overflow_y": null,
      "padding": null,
      "right": null,
      "top": null,
      "visibility": null,
      "width": null
     }
    },
    "dd313f38508340ce9222b5207559cab6": {
     "model_module": "@jupyter-widgets/controls",
     "model_module_version": "1.5.0",
     "model_name": "DescriptionStyleModel",
     "state": {
      "_model_module": "@jupyter-widgets/controls",
      "_model_module_version": "1.5.0",
      "_model_name": "DescriptionStyleModel",
      "_view_count": null,
      "_view_module": "@jupyter-widgets/base",
      "_view_module_version": "1.2.0",
      "_view_name": "StyleView",
      "description_width": ""
     }
    },
    "ddd7c0efc3424788a9b8bfe1ccb72a1e": {
     "model_module": "@jupyter-widgets/base",
     "model_module_version": "1.2.0",
     "model_name": "LayoutModel",
     "state": {
      "_model_module": "@jupyter-widgets/base",
      "_model_module_version": "1.2.0",
      "_model_name": "LayoutModel",
      "_view_count": null,
      "_view_module": "@jupyter-widgets/base",
      "_view_module_version": "1.2.0",
      "_view_name": "LayoutView",
      "align_content": null,
      "align_items": null,
      "align_self": null,
      "border": null,
      "bottom": null,
      "display": null,
      "flex": null,
      "flex_flow": null,
      "grid_area": null,
      "grid_auto_columns": null,
      "grid_auto_flow": null,
      "grid_auto_rows": null,
      "grid_column": null,
      "grid_gap": null,
      "grid_row": null,
      "grid_template_areas": null,
      "grid_template_columns": null,
      "grid_template_rows": null,
      "height": null,
      "justify_content": null,
      "justify_items": null,
      "left": null,
      "margin": null,
      "max_height": null,
      "max_width": null,
      "min_height": null,
      "min_width": null,
      "object_fit": null,
      "object_position": null,
      "order": null,
      "overflow": null,
      "overflow_x": null,
      "overflow_y": null,
      "padding": null,
      "right": null,
      "top": null,
      "visibility": null,
      "width": null
     }
    },
    "eae232eeb2c240a2a1ccd8faa98561a5": {
     "model_module": "@jupyter-widgets/controls",
     "model_module_version": "1.5.0",
     "model_name": "FloatProgressModel",
     "state": {
      "_dom_classes": [],
      "_model_module": "@jupyter-widgets/controls",
      "_model_module_version": "1.5.0",
      "_model_name": "FloatProgressModel",
      "_view_count": null,
      "_view_module": "@jupyter-widgets/controls",
      "_view_module_version": "1.5.0",
      "_view_name": "ProgressView",
      "bar_style": "success",
      "description": "",
      "description_tooltip": null,
      "layout": "IPY_MODEL_5749611af2cf4ea4b819406ece6beae6",
      "max": 150553,
      "min": 0,
      "orientation": "horizontal",
      "style": "IPY_MODEL_ce0ae0bf9d8a4956a1938e137b9ad8be",
      "value": 150553
     }
    },
    "f4fbb99c02004716b8c285d1285d5fad": {
     "model_module": "@jupyter-widgets/base",
     "model_module_version": "1.2.0",
     "model_name": "LayoutModel",
     "state": {
      "_model_module": "@jupyter-widgets/base",
      "_model_module_version": "1.2.0",
      "_model_name": "LayoutModel",
      "_view_count": null,
      "_view_module": "@jupyter-widgets/base",
      "_view_module_version": "1.2.0",
      "_view_name": "LayoutView",
      "align_content": null,
      "align_items": null,
      "align_self": null,
      "border": null,
      "bottom": null,
      "display": null,
      "flex": null,
      "flex_flow": null,
      "grid_area": null,
      "grid_auto_columns": null,
      "grid_auto_flow": null,
      "grid_auto_rows": null,
      "grid_column": null,
      "grid_gap": null,
      "grid_row": null,
      "grid_template_areas": null,
      "grid_template_columns": null,
      "grid_template_rows": null,
      "height": null,
      "justify_content": null,
      "justify_items": null,
      "left": null,
      "margin": null,
      "max_height": null,
      "max_width": null,
      "min_height": null,
      "min_width": null,
      "object_fit": null,
      "object_position": null,
      "order": null,
      "overflow": null,
      "overflow_x": null,
      "overflow_y": null,
      "padding": null,
      "right": null,
      "top": null,
      "visibility": null,
      "width": null
     }
    },
    "fac7b1f392eb41f4895d44e895526e17": {
     "model_module": "@jupyter-widgets/controls",
     "model_module_version": "1.5.0",
     "model_name": "DescriptionStyleModel",
     "state": {
      "_model_module": "@jupyter-widgets/controls",
      "_model_module_version": "1.5.0",
      "_model_name": "DescriptionStyleModel",
      "_view_count": null,
      "_view_module": "@jupyter-widgets/base",
      "_view_module_version": "1.2.0",
      "_view_name": "StyleView",
      "description_width": ""
     }
    },
    "ff31fa15c84c4288b889d7153b896793": {
     "model_module": "@jupyter-widgets/controls",
     "model_module_version": "1.5.0",
     "model_name": "HBoxModel",
     "state": {
      "_dom_classes": [],
      "_model_module": "@jupyter-widgets/controls",
      "_model_module_version": "1.5.0",
      "_model_name": "HBoxModel",
      "_view_count": null,
      "_view_module": "@jupyter-widgets/controls",
      "_view_module_version": "1.5.0",
      "_view_name": "HBoxView",
      "box_style": "",
      "children": [
       "IPY_MODEL_049537086a864d609cde3d2ad5beb645",
       "IPY_MODEL_d1495c6729f14cf3a028513387146d10",
       "IPY_MODEL_17be763b0a9045aab225eb7512580f34"
      ],
      "layout": "IPY_MODEL_dbfdbd468bd7490aa7e3db2ded281705"
     }
    }
   }
  }
 },
 "nbformat": 4,
 "nbformat_minor": 4
}
